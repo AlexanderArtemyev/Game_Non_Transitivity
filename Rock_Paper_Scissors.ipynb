{
 "cells": [
  {
   "cell_type": "code",
   "execution_count": 1,
   "id": "808ba35c",
   "metadata": {},
   "outputs": [],
   "source": [
    "import torch\n",
    "import numpy as np\n",
    "import pandas as pd\n",
    "\n",
    "import time\n",
    "\n",
    "import matplotlib.pyplot as plt\n",
    "from matplotlib.ticker import MultipleLocator, LogLocator\n",
    "\n",
    "#from google.colab import drive\n",
    "\n",
    "import torch\n",
    "import torch.nn as nn\n",
    "from torch.utils.data import TensorDataset, DataLoader\n",
    "\n",
    "from scipy.stats import pearsonr, spearmanr, kendalltau\n",
    "\n",
    "from sklearn.model_selection import train_test_split\n",
    "from sklearn.preprocessing import StandardScaler, OneHotEncoder\n",
    "from sklearn.metrics import log_loss\n",
    "from tqdm import tqdm\n",
    "from sklearn.linear_model import LogisticRegression\n",
    "\n",
    "from sklearn.metrics import roc_auc_score\n",
    "\n",
    "#import lightgbm as lgb\n",
    "from lightgbm import LGBMClassifier\n",
    "from lightgbm import plot_importance\n",
    "\n",
    "import itertools"
   ]
  },
  {
   "cell_type": "markdown",
   "id": "6f416d45",
   "metadata": {},
   "source": [
    "# Shuo Chen's blade-chest model: модель сабля-рука\n",
    "Papers\n",
    "\n",
    "* \"Modeling Intransitivity in Matchup and Comparison Data\", Shuo Chen and Thorsten Joachims, <br> https://www.cs.cornell.edu/~shuochen/pubs/wsdm16_chen.pdf <br>\n",
    "* \"Predicting Matchups and Preferences in Context\", Shuo Chen and Thorsten Joachims, <br> http://csinpi.github.io/pubs/kdd16_chen.pdf\n",
    "\n",
    "Original code\n",
    "* https://github.com/csinpi/blade_chest\n",
    "* https://github.com/csinpi/matchup"
   ]
  },
  {
   "cell_type": "markdown",
   "id": "69a01e6f",
   "metadata": {},
   "source": [
    "#### A metaphorical illustration of the blade-chest model for intransitivity\n",
    "\n",
    "Player a and player b are in a sword duel. Player a's blade is closer to player b's chest than vice versa, as shown by the two blue dashed lines. This illustrates how player a has a better chance of winning than player b. \n",
    "\n",
    "* https://www.researchgate.net/figure/A-metaphorical-illustration-of-the-blade-chest-model-for-intransitivity-Player-a-and_fig1_310825028\n",
    "\n",
    "<img src=\"https://www.researchgate.net/profile/Thorsten-Joachims/publication/310825028/figure/fig1/AS:631996141297666@1527691030297/A-metaphorical-illustration-of-the-blade-chest-model-for-intransitivity-Player-a-and.png\" alt=\"Drawing\" style=\"width: 400px;\" >\n",
    "\n",
    "\n",
    "<img src=\"https://www.researchgate.net/profile/Thorsten-Joachims/publication/310825028/figure/fig4/AS:631996141277186@1527691030147/Pipeline-of-CONCAT-model.png\" alt=\"Drawing\" style=\"width: 600px;\" >"
   ]
  },
  {
   "cell_type": "code",
   "execution_count": null,
   "id": "381a5f4b",
   "metadata": {},
   "outputs": [],
   "source": []
  },
  {
   "cell_type": "markdown",
   "id": "20e99a4a",
   "metadata": {},
   "source": [
    "## \"Modeling Intransitivity in Matchup and Comparison Data\"\n",
    "\n",
    "\"Modeling Intransitivity in Matchup and Comparison Data\", Shuo Chen and Thorsten Joachims, <br> https://www.cs.cornell.edu/~shuochen/pubs/wsdm16_chen.pdf \n",
    "\n",
    "### 4. EXPERIMENTS\n",
    "#### 4.1 Synthetic datasets\n",
    "\n",
    "To demonstrate that our proposed model can capture intransitivity on synthetic datasets, we begin by looking at the classic rockpaper-scissors game. The training dataset is generated as follows:\n",
    "there are three players, namely rock, paper and scissors. \n",
    "We generate 3, 000 games among them, with rock beating scissors 1,000\n",
    "times, scissors beating paper 1,000 times, and paper beating rock\n",
    "1,000 times. We trained our blade-chest-dist model without the\n",
    "bias term, and we set the dimensionality of the vectors to be d = 2.\n",
    "We then visualize the learned model in the left panel of Figure 2.\n",
    "Each player is represented by an arrow, with the head being its\n",
    "blade vector, and the tail being its chest vector. The interlocking\n",
    "pattern in the visualization is evidence that our model captures the\n",
    "intransitive rule between the rock, paper and scissors.\n",
    "\n",
    "There is also an interesting extension of the original rock-paperscissors game in popular culture called \n",
    "rock-paper-scissors-lizard-Spock. In addition to the three-way intransitivity between rock,\n",
    "paper and scissors, new rules for the other two players are added,\n",
    "and a graphical demonstration of the rules can be found here. \n",
    "We generated 1, 000 matches for each matchup, and then do the training and visualization analogous to the classic rock-paper-scissors game. The results are shown in the right panel of Figure 2. Here\n",
    "we observe the similar interlocking pattern, with each of the 10\n",
    "matchups correctly demonstrated."
   ]
  },
  {
   "cell_type": "code",
   "execution_count": null,
   "id": "2319c940",
   "metadata": {},
   "outputs": [],
   "source": []
  },
  {
   "cell_type": "code",
   "execution_count": 2,
   "id": "0786081c",
   "metadata": {},
   "outputs": [],
   "source": [
    "def generate_dataset(units = ['rock', 'paper', 'scissors'], \n",
    "                     match = {   ('rock', 'paper')     : 0,\n",
    "                                  ('rock', 'scissors')  : 1,\n",
    "                             #     ('rock', 'rock')      : 0.5,\n",
    "                                 \n",
    "                                  ('paper', 'scissors') : 0,\n",
    "                                  ('paper', 'rock', )   : 1,\n",
    "                             #     ('paper', 'paper')    : 0.5,\n",
    "                                 \n",
    "                                  ('scissors', 'rock', )   : 0,\n",
    "                                  ('scissors', 'paper')    : 1,\n",
    "                             #     ('scissors', 'scissors') : 0.5\n",
    "                                },\n",
    "                     n = 1000, \n",
    "                     random_seed = 1543\n",
    "                    ):\n",
    "    \n",
    "    n_units = len(units)\n",
    "    arr = []\n",
    "\n",
    "    j = 0\n",
    "    for i_1, unit_1 in enumerate(units):\n",
    "        for i_2, unit_2 in enumerate(units):\n",
    "            \n",
    "            if unit_1 == unit_2:                   # Исключаем ничьи\n",
    "                continue\n",
    "            \n",
    "            for i in range (n):\n",
    "                arr.extend( [[ i_1, i_2, match[(unit_1, unit_2)] ]] ) \n",
    "                j += 1\n",
    "          \n",
    "    np.random.seed(random_seed)\n",
    "    np.random.shuffle(arr)\n",
    "       \n",
    "    return np.array(arr)"
   ]
  },
  {
   "cell_type": "code",
   "execution_count": 3,
   "id": "7ad7d6b6",
   "metadata": {},
   "outputs": [],
   "source": [
    "def get_team_encoding(X, columns, prefix):\n",
    "    result = 0\n",
    "    for col in columns:\n",
    "        result += pd.get_dummies(X[:, col], prefix = '_'.join([prefix, str(col)]) )\n",
    "    return result"
   ]
  },
  {
   "cell_type": "markdown",
   "id": "680eb2a8",
   "metadata": {},
   "source": [
    "## Формируем данные train, val, test\n",
    "\n",
    "Контролируем доли матчей разных видов"
   ]
  },
  {
   "cell_type": "code",
   "execution_count": 4,
   "id": "131b9dd8",
   "metadata": {},
   "outputs": [
    {
     "data": {
      "text/plain": [
       "(18000, 6000, 6000)"
      ]
     },
     "execution_count": 4,
     "metadata": {},
     "output_type": "execute_result"
    }
   ],
   "source": [
    "data_train = generate_dataset(n = 6000, random_seed = 1)\n",
    "data_val   = generate_dataset(n = 2000, random_seed = 2)\n",
    "data_test  = generate_dataset(n = 2000, random_seed = 3)\n",
    "\n",
    "X_train = data_train[:,:2]\n",
    "y_train = data_train[:,2:3]\n",
    "\n",
    "X_val   = data_val[:,:2]\n",
    "y_val   = data_val[:,2:3]\n",
    "\n",
    "X_test  = data_test[:,:2]\n",
    "y_test  = data_test[:,2:3]\n",
    "\n",
    "y_train.sum(), y_val.sum(), y_test.sum()"
   ]
  },
  {
   "cell_type": "code",
   "execution_count": 5,
   "id": "88873b21",
   "metadata": {},
   "outputs": [],
   "source": [
    "team1_train = get_team_encoding( X_train, columns=[0], prefix='team1' )\n",
    "team2_train = get_team_encoding( X_train, columns=[1], prefix='team2' )\n",
    "\n",
    "team1_val   = get_team_encoding( X_val,   columns=[0], prefix='team1' )\n",
    "team2_val   = get_team_encoding( X_val,   columns=[1], prefix='team2' )\n",
    "\n",
    "team1_test  = get_team_encoding( X_test,  columns=[0], prefix='team1' )\n",
    "team2_test  = get_team_encoding( X_test,  columns=[1], prefix='team2' )"
   ]
  },
  {
   "cell_type": "code",
   "execution_count": 6,
   "id": "fbb1ea33",
   "metadata": {},
   "outputs": [
    {
     "data": {
      "text/plain": [
       "1_0_0_0_1_0    6000\n",
       "1_0_0_0_0_1    6000\n",
       "0_1_0_1_0_0    6000\n",
       "0_1_0_0_0_1    6000\n",
       "0_0_1_1_0_0    6000\n",
       "0_0_1_0_1_0    6000\n",
       "dtype: int64"
      ]
     },
     "execution_count": 6,
     "metadata": {},
     "output_type": "execute_result"
    }
   ],
   "source": [
    "# Проверим, какие комбинации в каком количестве представлены\n",
    "\n",
    "pd.concat([team1_train, team2_train], axis=1\n",
    "         ).apply(lambda x: '_'.join(list(map(str, x))), \n",
    "                 axis=1\n",
    "                ).value_counts().sort_index(ascending=False)"
   ]
  },
  {
   "cell_type": "markdown",
   "id": "c4eb066e",
   "metadata": {},
   "source": [
    "* #### Формируем данные и разбиваем их на train, val, test <br> <br> Не используется"
   ]
  },
  {
   "cell_type": "code",
   "execution_count": 7,
   "id": "216c0ece",
   "metadata": {},
   "outputs": [],
   "source": [
    "# data = generate_dataset(n = 10000)\n",
    "\n",
    "# X = data[:,:2]\n",
    "# Y = data[:,2:3]"
   ]
  },
  {
   "cell_type": "code",
   "execution_count": 8,
   "id": "0c601285",
   "metadata": {},
   "outputs": [],
   "source": [
    "# team1_encoding = get_team_encoding( X, columns=[0], prefix='team1' )\n",
    "# team2_encoding = get_team_encoding( X, columns=[1], prefix='team2' )"
   ]
  },
  {
   "cell_type": "code",
   "execution_count": 9,
   "id": "bea620eb",
   "metadata": {},
   "outputs": [],
   "source": [
    "# (team1_train_test, team1_val, \n",
    "#  team2_train_test, team2_val, \n",
    "#  y_train_test, y_val) = train_test_split(team1_encoding, \n",
    "#                                          team2_encoding, \n",
    "#                                          Y, \n",
    "#                                          test_size = 0.20,\n",
    "#                                          shuffle = True, \n",
    "#                                          random_state=1543 )\n",
    "\n",
    "# (team1_train, team1_test, \n",
    "#  team2_train, team2_test, \n",
    "#  y_train, y_test) = train_test_split(team1_train_test, \n",
    "#                                      team2_train_test, \n",
    "#                                      y_train_test, \n",
    "#                                      test_size = 0.25,\n",
    "#                                      shuffle = True, \n",
    "#                                      random_state=1543 )\n",
    "\n",
    "# print(team1_train.shape, team1_test.shape, team1_val.shape)\n",
    "# print(team2_train.shape, team2_test.shape, team2_val.shape)\n",
    "# print(y_train.shape,      y_test.shape,    y_val.shape)"
   ]
  },
  {
   "cell_type": "code",
   "execution_count": 10,
   "id": "68677845",
   "metadata": {},
   "outputs": [],
   "source": [
    "# X_train = pd.concat([team1_train, team2_train], axis=1)\n",
    "# X_train.head()"
   ]
  },
  {
   "cell_type": "code",
   "execution_count": 11,
   "id": "12dc1274",
   "metadata": {},
   "outputs": [],
   "source": [
    "# # Проверим, какие комбинации в каком количестве представлены\n",
    "\n",
    "# pd.concat([team1_train, team2_train], axis=1\n",
    "#          ).apply(lambda x: '_'.join(list(map(str, x))), \n",
    "#                  axis=1\n",
    "#                 ).value_counts().sort_index(ascending=False)"
   ]
  },
  {
   "cell_type": "markdown",
   "id": "78d4edc9",
   "metadata": {},
   "source": [
    "## Подготовим данные для обучения"
   ]
  },
  {
   "cell_type": "code",
   "execution_count": 12,
   "id": "acf49871",
   "metadata": {},
   "outputs": [],
   "source": [
    "def get_set(team1_train, team2_train, y_train):\n",
    "    team1_train = torch.cuda.FloatTensor(team1_train.values)\n",
    "    team2_train = torch.cuda.FloatTensor(team2_train.values)\n",
    "    y_train     = torch.cuda.FloatTensor(y_train)\n",
    "    train_set   = TensorDataset(team1_train, team2_train, y_train)\n",
    "    return train_set\n",
    "\n",
    "train_set = get_set(team1_train, team2_train, y_train)\n",
    "val_set   = get_set(team1_val,   team2_val,   y_val  )\n",
    "test_set  = get_set(team1_test,  team2_test,  y_test )"
   ]
  },
  {
   "cell_type": "code",
   "execution_count": 13,
   "id": "9acab0a9",
   "metadata": {},
   "outputs": [
    {
     "data": {
      "text/plain": [
       "(tensor([1., 0., 0.], device='cuda:0'),\n",
       " tensor([0., 1., 0.], device='cuda:0'),\n",
       " tensor([0.], device='cuda:0'))"
      ]
     },
     "execution_count": 13,
     "metadata": {},
     "output_type": "execute_result"
    }
   ],
   "source": [
    "train_set[0]"
   ]
  },
  {
   "cell_type": "code",
   "execution_count": 14,
   "id": "f3004380",
   "metadata": {},
   "outputs": [],
   "source": [
    "# Объединяем данные в батчи для обучения\n",
    "\n",
    "# train_loader -- перемешиваем данные при загрузке, shuffle = True, \n",
    "#                 чтобы каждая эпоха училась чуть по-разному\n",
    "train_loader  = DataLoader(train_set, batch_size = 128, shuffle = True)\n",
    "\n",
    "train2_loader = DataLoader(train_set, batch_size = 128, shuffle = False)\n",
    "val_loader    = DataLoader(val_set,   batch_size = 128, shuffle = False)\n",
    "test_loader   = DataLoader(test_set,  batch_size = 128, shuffle = False)"
   ]
  },
  {
   "cell_type": "code",
   "execution_count": 15,
   "id": "9ddeeafc",
   "metadata": {},
   "outputs": [],
   "source": [
    "# Параметры модели\n",
    "\n",
    "num_u   = 3        # 3 объекта: камень, ножницы, бумага      # team1_train_test.shape[1]\n",
    "num_emb = 2        # 2-мерная модель"
   ]
  },
  {
   "cell_type": "code",
   "execution_count": 16,
   "id": "a1a14190",
   "metadata": {},
   "outputs": [],
   "source": [
    "def batch_dot(x, y):\n",
    "    return (x * y).sum(dim=1, keepdims=True)\n",
    "\n",
    "class BladeChest(nn.Module):\n",
    "    def __init__(self, num_units=num_u, num_embeddings=num_emb):\n",
    "        super(BladeChest, self).__init__()\n",
    "        self.blade_emb = nn.Linear(num_units, num_embeddings)\n",
    "        self.chest_emb = nn.Linear(num_units, num_embeddings)\n",
    "\n",
    "    def forward(self, batch):\n",
    "        team1, team2 = batch\n",
    "        team1_blade = self.blade_emb(team1)\n",
    "        team2_blade = self.blade_emb(team2)\n",
    "        team1_chest = self.chest_emb(team1)\n",
    "        team2_chest = self.chest_emb(team2)\n",
    "\n",
    "        team1_attack = batch_dot(team1_blade, team2_chest)\n",
    "        team2_attack = batch_dot(team2_blade, team1_chest)\n",
    "        \n",
    "        logits = team1_attack - team2_attack\n",
    "        return logits"
   ]
  },
  {
   "cell_type": "markdown",
   "id": "ee403212",
   "metadata": {},
   "source": [
    "## Оптимизация модели: Shuo Chen's blade-chest inner model\n",
    "\n",
    "$ M(a,b) = {( \\mathbf{a}_{blade} \\cdot \\mathbf{b}_{chest} )} - {( \\mathbf{b}_{blade} \\cdot \\mathbf{a}_{chest} )} $"
   ]
  },
  {
   "cell_type": "code",
   "execution_count": 17,
   "id": "6b22f3f7",
   "metadata": {},
   "outputs": [],
   "source": [
    "# Объявляем модель\n",
    "blade_chest_model = BladeChest( num_units      = num_u, \n",
    "                                num_embeddings = num_emb\n",
    "                              ).cuda()"
   ]
  },
  {
   "cell_type": "code",
   "execution_count": 18,
   "id": "9985c60e",
   "metadata": {},
   "outputs": [],
   "source": [
    "# Функция потерь\n",
    "crossentropy = nn.BCEWithLogitsLoss()  "
   ]
  },
  {
   "cell_type": "code",
   "execution_count": 19,
   "id": "6d626710",
   "metadata": {},
   "outputs": [],
   "source": [
    "# Оптимизатор\n",
    "optimizer = torch.optim.Adam(blade_chest_model.parameters(), \n",
    "                             lr=1e-4)"
   ]
  },
  {
   "cell_type": "code",
   "execution_count": 20,
   "id": "1c7e353d",
   "metadata": {},
   "outputs": [],
   "source": [
    "def run_epoch(model, optimizer = optimizer, training=True, L2 = 0):\n",
    "    '''\n",
    "    Оптимизация модели для одной эпохи\n",
    "    '''\n",
    "    \n",
    "    loss_values = []\n",
    "    \n",
    "    model.train(training)\n",
    "    \n",
    "    dataloader = train_loader if training else val_loader\n",
    "    \n",
    "    for i, (batch_team1, batch_team2, batch_y) in tqdm(enumerate(dataloader)):\n",
    "        out = model((batch_team1, batch_team2))\n",
    "        optimizer.zero_grad()\n",
    "        \n",
    "        #print(out.dtype, batch_y.dtype)\n",
    "        batch_loss = crossentropy(out, batch_y)\n",
    "\n",
    "        # Adapted from: Adding L1/L2 regularization in PyTorch?\n",
    "        # https://stackoverflow.com/questions/42704283/adding-l1-l2-regularization-in-pytorch\n",
    "        if L2 > 0:\n",
    "            L2_reg = torch.tensor(0., requires_grad=True)\n",
    "            for name, param in model.named_parameters():\n",
    "                if 'weight' in name:\n",
    "                    L2_reg = L2_reg + torch.norm(param, 2)\n",
    "            batch_loss = batch_loss + L2 * L2_reg\n",
    "        \n",
    "        if training:\n",
    "            batch_loss.backward()\n",
    "            optimizer.step()\n",
    "            \n",
    "        loss_values.append(batch_loss.item())\n",
    "        \n",
    "    return loss_values"
   ]
  },
  {
   "cell_type": "code",
   "execution_count": 21,
   "id": "e6641dc5",
   "metadata": {},
   "outputs": [],
   "source": [
    "def get_prediction(dataloader, model):\n",
    "    result = []\n",
    "       \n",
    "    for i, (batch_team1, batch_team2, y) in enumerate(dataloader):  # dataloader yields (batch_team1, batch_team2, y)\n",
    "        out = torch.sigmoid( model((batch_team1, batch_team2)) )\n",
    "        out = list( out.detach().cpu()[:,0].numpy() )\n",
    "        result.extend(out)\n",
    "        \n",
    "    return result"
   ]
  },
  {
   "cell_type": "code",
   "execution_count": 22,
   "id": "5bfab189",
   "metadata": {
    "scrolled": true
   },
   "outputs": [
    {
     "name": "stderr",
     "output_type": "stream",
     "text": [
      "282it [00:01, 172.07it/s]\n",
      "282it [00:01, 180.19it/s]\n",
      "282it [00:01, 188.07it/s]\n",
      "282it [00:01, 174.36it/s]\n",
      "282it [00:01, 167.79it/s]\n",
      "282it [00:01, 174.15it/s]\n",
      "282it [00:01, 174.69it/s]\n",
      "282it [00:01, 171.41it/s]\n",
      "282it [00:01, 175.62it/s]\n",
      "282it [00:01, 177.94it/s]\n",
      "282it [00:01, 196.40it/s]\n",
      "282it [00:01, 198.03it/s]\n",
      "282it [00:01, 207.52it/s]\n",
      "282it [00:01, 197.99it/s]\n",
      "282it [00:01, 198.79it/s]\n",
      "282it [00:01, 197.01it/s]\n",
      "282it [00:01, 210.44it/s]\n",
      "282it [00:01, 216.83it/s]\n",
      "282it [00:01, 238.66it/s]\n",
      "282it [00:01, 234.52it/s]\n",
      "282it [00:01, 237.10it/s]\n",
      "282it [00:01, 236.26it/s]\n",
      "282it [00:01, 237.14it/s]\n",
      "282it [00:01, 254.57it/s]\n",
      "282it [00:01, 237.58it/s]\n",
      "282it [00:01, 237.59it/s]\n",
      "282it [00:01, 235.15it/s]\n",
      "282it [00:01, 224.26it/s]\n",
      "282it [00:01, 235.21it/s]\n",
      "282it [00:01, 237.95it/s]\n",
      "282it [00:01, 231.48it/s]\n",
      "282it [00:01, 229.58it/s]\n",
      "282it [00:01, 225.16it/s]\n",
      "282it [00:00, 391.77it/s]\n",
      "282it [00:00, 488.39it/s]\n",
      "282it [00:00, 505.68it/s]\n",
      "282it [00:00, 507.20it/s]\n",
      "282it [00:00, 511.42it/s]\n",
      "282it [00:00, 501.71it/s]\n",
      "282it [00:00, 322.87it/s]\n",
      "282it [00:01, 235.93it/s]\n",
      "282it [00:01, 230.63it/s]\n",
      "282it [00:01, 235.01it/s]\n",
      "282it [00:01, 242.53it/s]\n",
      "282it [00:01, 217.03it/s]\n",
      "282it [00:01, 197.60it/s]\n",
      "282it [00:01, 207.31it/s]\n",
      "282it [00:01, 228.38it/s]\n",
      "282it [00:01, 225.29it/s]\n",
      "282it [00:01, 209.06it/s]\n",
      "282it [00:01, 201.17it/s]\n",
      "282it [00:01, 212.95it/s]\n",
      "282it [00:01, 221.05it/s]\n",
      "282it [00:01, 204.10it/s]\n",
      "282it [00:01, 191.96it/s]\n",
      "282it [00:01, 210.77it/s]\n",
      "282it [00:01, 207.46it/s]\n",
      "282it [00:01, 195.95it/s]\n",
      "282it [00:01, 197.20it/s]\n",
      "282it [00:01, 201.46it/s]\n",
      "282it [00:01, 208.28it/s]\n",
      "282it [00:01, 203.36it/s]\n",
      "282it [00:01, 235.65it/s]\n",
      "282it [00:01, 235.58it/s]\n",
      "282it [00:01, 231.20it/s]\n",
      "282it [00:01, 233.27it/s]\n",
      "282it [00:01, 235.35it/s]\n",
      "282it [00:01, 234.44it/s]\n",
      "282it [00:01, 217.55it/s]\n",
      "282it [00:01, 234.20it/s]\n",
      "282it [00:01, 232.06it/s]\n",
      "282it [00:01, 232.82it/s]\n",
      "282it [00:01, 231.77it/s]\n",
      "282it [00:01, 234.77it/s]\n",
      "282it [00:01, 233.01it/s]\n",
      "282it [00:01, 234.94it/s]\n",
      "282it [00:01, 234.36it/s]\n",
      "282it [00:01, 233.31it/s]\n",
      "282it [00:01, 233.85it/s]\n",
      "282it [00:01, 235.09it/s]\n",
      "282it [00:01, 233.79it/s]\n",
      "282it [00:01, 233.74it/s]\n",
      "282it [00:01, 232.65it/s]\n",
      "282it [00:01, 232.03it/s]\n",
      "282it [00:01, 232.45it/s]\n",
      "282it [00:01, 232.47it/s]\n",
      "282it [00:01, 233.41it/s]\n",
      "282it [00:01, 235.06it/s]\n",
      "282it [00:01, 230.77it/s]\n",
      "282it [00:01, 235.38it/s]\n",
      "282it [00:01, 234.87it/s]\n",
      "282it [00:01, 231.80it/s]\n",
      "282it [00:01, 234.20it/s]\n",
      "282it [00:01, 232.66it/s]\n",
      "282it [00:01, 234.44it/s]\n",
      "282it [00:01, 233.48it/s]\n",
      "282it [00:01, 232.87it/s]\n",
      "282it [00:01, 230.61it/s]\n",
      "282it [00:01, 234.57it/s]\n",
      "282it [00:01, 233.03it/s]\n"
     ]
    }
   ],
   "source": [
    "# Обучаем модель\n",
    "\n",
    "train_batch_loss = []\n",
    "\n",
    "train_epoch_loss = []\n",
    "test_epoch_loss  = []\n",
    "val_epoch_loss   = []\n",
    "\n",
    "for epoch in range(100):\n",
    "    train_batch_loss = train_batch_loss + run_epoch(blade_chest_model, optimizer = optimizer, L2 = 1e-4)\n",
    "    \n",
    "    train_prediction = get_prediction(train2_loader, blade_chest_model)    # train2_loader - без shuffle\n",
    "    val_prediction   = get_prediction(val_loader,    blade_chest_model)\n",
    "    test_prediction  = get_prediction(test_loader,   blade_chest_model)  \n",
    "    \n",
    "    train_epoch_loss.append( log_loss(y_train, train_prediction) )\n",
    "    val_epoch_loss.append(   log_loss(y_val,   val_prediction)   )\n",
    "    test_epoch_loss.append(  log_loss(y_test,  test_prediction)  )\n"
   ]
  },
  {
   "cell_type": "code",
   "execution_count": 23,
   "id": "952d10d5",
   "metadata": {},
   "outputs": [
    {
     "name": "stdout",
     "output_type": "stream",
     "text": [
      "Blade-chest model test_loss 4.2995741144598774e-05\n"
     ]
    }
   ],
   "source": [
    "test_prediction   = get_prediction(test_loader,    blade_chest_model)\n",
    "\n",
    "test_loss = log_loss(y_test, test_prediction)\n",
    "print('Blade-chest model test_loss', test_loss)"
   ]
  },
  {
   "cell_type": "code",
   "execution_count": 24,
   "id": "5deb6679",
   "metadata": {},
   "outputs": [
    {
     "name": "stdout",
     "output_type": "stream",
     "text": [
      "Blade-chest model val_loss  4.2995741144598774e-05\n"
     ]
    }
   ],
   "source": [
    "val_prediction   = get_prediction(val_loader,    blade_chest_model)\n",
    "val_prediction\n",
    "\n",
    "val_loss = log_loss(y_val, val_prediction)\n",
    "print('Blade-chest model val_loss ', val_loss)"
   ]
  },
  {
   "cell_type": "code",
   "execution_count": 25,
   "id": "e1c7babe",
   "metadata": {},
   "outputs": [
    {
     "data": {
      "text/plain": [
       "Text(0, 0.5, 'loss')"
      ]
     },
     "execution_count": 25,
     "metadata": {},
     "output_type": "execute_result"
    },
    {
     "data": {
      "image/png": "[encoded data removed]",
      "text/plain": [
       "<Figure size 432x288 with 1 Axes>"
      ]
     },
     "metadata": {
      "needs_background": "light"
     },
     "output_type": "display_data"
    }
   ],
   "source": [
    "plt.plot(train_batch_loss)\n",
    "plt.yscale('log')\n",
    "plt.title('Batch Loss')\n",
    "plt.xlabel('batch')\n",
    "plt.ylabel('loss')"
   ]
  },
  {
   "cell_type": "code",
   "execution_count": 26,
   "id": "3974bf84",
   "metadata": {},
   "outputs": [
    {
     "data": {
      "text/plain": [
       "Text(0, 0.5, 'loss')"
      ]
     },
     "execution_count": 26,
     "metadata": {},
     "output_type": "execute_result"
    },
    {
     "data": {
      "image/png": "[encoded data removed]",
      "text/plain": [
       "<Figure size 432x288 with 1 Axes>"
      ]
     },
     "metadata": {
      "needs_background": "light"
     },
     "output_type": "display_data"
    }
   ],
   "source": [
    "plt.plot(train_epoch_loss, label = 'train')\n",
    "plt.plot(val_epoch_loss,   label = 'val'  )\n",
    "plt.plot(test_epoch_loss,  label = 'test' )\n",
    "plt.legend()\n",
    "plt.yscale('log')\n",
    "plt.title('Epoch Loss')\n",
    "plt.xlabel('epoch')\n",
    "plt.ylabel('loss')"
   ]
  },
  {
   "cell_type": "markdown",
   "id": "328c9ab6",
   "metadata": {},
   "source": [
    "### Визуалиазция коэффициентов модели"
   ]
  },
  {
   "cell_type": "code",
   "execution_count": 27,
   "id": "713ca1fe",
   "metadata": {},
   "outputs": [
    {
     "name": "stdout",
     "output_type": "stream",
     "text": [
      "('blade_emb.weight', Parameter containing:\n",
      "tensor([[-1.8220, -1.3760,  2.0952],\n",
      "        [ 2.2197, -1.0776, -2.1348]], device='cuda:0', requires_grad=True))\n",
      "---------------------------\n",
      "('blade_emb.bias', Parameter containing:\n",
      "tensor([0.0096, 0.1205], device='cuda:0', requires_grad=True))\n",
      "---------------------------\n",
      "('chest_emb.weight', Parameter containing:\n",
      "tensor([[-1.7217,  2.1473, -0.2555],\n",
      "        [ 0.8485, -1.9505,  1.9020]], device='cuda:0', requires_grad=True))\n",
      "---------------------------\n",
      "('chest_emb.bias', Parameter containing:\n",
      "tensor([ 0.0302, -0.0184], device='cuda:0', requires_grad=True))\n",
      "---------------------------\n"
     ]
    }
   ],
   "source": [
    "for param in blade_chest_model.named_parameters():\n",
    "    print(param)\n",
    "    print('---------------------------')"
   ]
  },
  {
   "cell_type": "markdown",
   "id": "3b25a959",
   "metadata": {},
   "source": [
    "https://stackoverflow.com/questions/42704283/adding-l1-l2-regularization-in-pytorch\n",
    "\n",
    "`L1_reg = torch.tensor(0., requires_grad=True)`\n",
    "\n",
    "`for name, param in model.named_parameters():`\n",
    "\n",
    "`    if 'weight' in name:`\n",
    "\n",
    "`        L1_reg = L1_reg + torch.norm(param, 1)`\n",
    "\n",
    "`total_loss = total_loss + 10e-4 * L1_reg`"
   ]
  },
  {
   "cell_type": "code",
   "execution_count": 28,
   "id": "57d52746",
   "metadata": {},
   "outputs": [
    {
     "name": "stdout",
     "output_type": "stream",
     "text": [
      "Parameter containing:\n",
      "tensor([[-1.8220, -1.3760,  2.0952],\n",
      "        [ 2.2197, -1.0776, -2.1348]], device='cuda:0', requires_grad=True)\n",
      "---------------------------\n",
      "Parameter containing:\n",
      "tensor([0.0096, 0.1205], device='cuda:0', requires_grad=True)\n",
      "---------------------------\n",
      "Parameter containing:\n",
      "tensor([[-1.7217,  2.1473, -0.2555],\n",
      "        [ 0.8485, -1.9505,  1.9020]], device='cuda:0', requires_grad=True)\n",
      "---------------------------\n",
      "Parameter containing:\n",
      "tensor([ 0.0302, -0.0184], device='cuda:0', requires_grad=True)\n",
      "---------------------------\n"
     ]
    }
   ],
   "source": [
    "for param in blade_chest_model.parameters():\n",
    "    print(param)\n",
    "    print('---------------------------')"
   ]
  },
  {
   "cell_type": "code",
   "execution_count": 29,
   "id": "792bc19e",
   "metadata": {},
   "outputs": [
    {
     "data": {
      "text/plain": [
       "(Linear(in_features=3, out_features=2, bias=True),\n",
       " Linear(in_features=3, out_features=2, bias=True))"
      ]
     },
     "execution_count": 29,
     "metadata": {},
     "output_type": "execute_result"
    }
   ],
   "source": [
    "blade_chest_model.blade_emb, blade_chest_model.chest_emb "
   ]
  },
  {
   "cell_type": "code",
   "execution_count": 30,
   "id": "42862af1",
   "metadata": {},
   "outputs": [
    {
     "data": {
      "text/plain": [
       "Parameter containing:\n",
       "tensor([[-1.8220, -1.3760,  2.0952],\n",
       "        [ 2.2197, -1.0776, -2.1348]], device='cuda:0', requires_grad=True)"
      ]
     },
     "execution_count": 30,
     "metadata": {},
     "output_type": "execute_result"
    }
   ],
   "source": [
    "blade_chest_model.blade_emb.weight"
   ]
  },
  {
   "cell_type": "code",
   "execution_count": 31,
   "id": "441d40f1",
   "metadata": {},
   "outputs": [
    {
     "name": "stdout",
     "output_type": "stream",
     "text": [
      "[[-1.821999  -1.3759925  2.0951815]\n",
      " [ 2.2196684 -1.0776422 -2.134807 ]]\n",
      "[[-1.7216899  2.147337  -0.2554605]\n",
      " [ 0.8485159 -1.9505346  1.9020009]]\n"
     ]
    }
   ],
   "source": [
    "blade, chest = (\n",
    "    blade_chest_model.blade_emb.weight.data.detach().cpu().numpy(),\n",
    "    blade_chest_model.chest_emb.weight.data.detach().cpu().numpy()\n",
    ")\n",
    "\n",
    "print(blade)\n",
    "print(chest)"
   ]
  },
  {
   "cell_type": "code",
   "execution_count": 32,
   "id": "66140cd3",
   "metadata": {
    "scrolled": false
   },
   "outputs": [
    {
     "name": "stdout",
     "output_type": "stream",
     "text": [
      "0 (-1.7216899, 0.8485159, -0.100309014, 1.3711524)\n",
      "1 (2.147337, -1.9505346, -3.5233295, 0.8728924)\n",
      "2 (-0.2554605, 1.9020009, 2.350642, -4.036808)\n"
     ]
    },
    {
     "data": {
      "image/png": "[encoded data removed]",
      "text/plain": [
       "<Figure size 288x288 with 1 Axes>"
      ]
     },
     "metadata": {
      "needs_background": "light"
     },
     "output_type": "display_data"
    }
   ],
   "source": [
    "fig, ax = plt.subplots(1,1,figsize=(4,4))\n",
    "\n",
    "offset = [[0, -0.5],      # rock\n",
    "          [0.7, 0],      # paper\n",
    "          [0.0, -0.7],    # scissors\n",
    "         ]\n",
    "\n",
    "for i, unit in enumerate(['rock', 'paper', 'scissors']):\n",
    "    unit_blade = blade[:,i]\n",
    "    unit_chest = chest[:,i]\n",
    "    x, y   = unit_chest\n",
    "    dx, dy = unit_blade - unit_chest\n",
    "    ox, oy = offset[i]\n",
    "    \n",
    "    print(i, (x, y, dx, dy))\n",
    "    ax.arrow(x,  y, \n",
    "             dx, dy, \n",
    "             head_width=0.1, head_length=0.25, fc='black', ec='black')\n",
    "    \n",
    "    ax.text(x + dx/2 + ox, y + dy/2 + oy, \n",
    "            s = unit, \n",
    "            size=16, ha='center', va='center', color='black')\n",
    "    \n",
    "plt.show()    \n",
    "#x, y"
   ]
  },
  {
   "cell_type": "markdown",
   "id": "6a68f3ea",
   "metadata": {},
   "source": [
    "В статьях Shuo Chen получилась более регулярная картина. <br> \n",
    "Вероятно, он использовал регуляризацию или контролировал начальные коэффициенты\n",
    "\n",
    "<img src=\"https://www.researchgate.net/profile/Thorsten-Joachims/publication/310825028/figure/fig9/AS:631996137086978@1527691029945/The-visualization-of-the-blade-chest-dist-model-trained-on-a-synthetic.png\" alt=\"Drawing\" style=\"width: 400px;\" align=\"left\" >\n",
    "\n"
   ]
  },
  {
   "cell_type": "code",
   "execution_count": null,
   "id": "f80eaa0a",
   "metadata": {},
   "outputs": [],
   "source": []
  },
  {
   "cell_type": "markdown",
   "id": "0e9d91a2",
   "metadata": {},
   "source": [
    "## Оптимизация модели: Shuo Chen's blade-chest distance model\n",
    "\n",
    "$M(a,b) = {\\| \\mathbf{b}_{blade} - \\mathbf{a}_{chest} \\|}^{2} - {\\| \\mathbf{a}_{blade} - \\mathbf{b}_{chest} \\|}^{2} $"
   ]
  },
  {
   "cell_type": "code",
   "execution_count": 33,
   "id": "471a9a68",
   "metadata": {},
   "outputs": [],
   "source": [
    "class BladeChestDistance(nn.Module):\n",
    "    def __init__(self, num_units=num_u, num_embeddings=num_emb):\n",
    "        super(BladeChestDistance, self).__init__()\n",
    "        self.blade_emb = nn.Linear(num_units, num_embeddings)\n",
    "        self.chest_emb = nn.Linear(num_units, num_embeddings)\n",
    "\n",
    "    def forward(self, batch):\n",
    "        team1, team2 = batch\n",
    "        team1_blade = self.blade_emb(team1)\n",
    "        team2_blade = self.blade_emb(team2)\n",
    "        team1_chest = self.chest_emb(team1)\n",
    "        team2_chest = self.chest_emb(team2)\n",
    "        \n",
    "        blade1_chest2 = team1_blade - team2_chest\n",
    "        blade2_chest1 = team2_blade - team1_chest\n",
    "\n",
    "        team1_attack = - batch_dot(blade1_chest2, blade1_chest2)\n",
    "        team2_attack = - batch_dot(blade2_chest1, blade2_chest1)\n",
    "        \n",
    "        logits = team1_attack - team2_attack\n",
    "        return logits"
   ]
  },
  {
   "cell_type": "code",
   "execution_count": 34,
   "id": "21251028",
   "metadata": {},
   "outputs": [],
   "source": [
    "# Объявляем модель\n",
    "blade_chest_distance_model = BladeChestDistance( num_units      = num_u, \n",
    "                                                 num_embeddings = num_emb\n",
    "                                               ).cuda()"
   ]
  },
  {
   "cell_type": "code",
   "execution_count": 35,
   "id": "984f2c2c",
   "metadata": {},
   "outputs": [],
   "source": [
    "# Функция потерь\n",
    "crossentropy = nn.BCEWithLogitsLoss()  "
   ]
  },
  {
   "cell_type": "code",
   "execution_count": 36,
   "id": "c72472b4",
   "metadata": {},
   "outputs": [],
   "source": [
    "# Оптимизатор\n",
    "optimizer = torch.optim.Adam(blade_chest_distance_model.parameters(), \n",
    "                             lr=1e-4)"
   ]
  },
  {
   "cell_type": "code",
   "execution_count": 37,
   "id": "935dd68e",
   "metadata": {
    "scrolled": false
   },
   "outputs": [
    {
     "name": "stderr",
     "output_type": "stream",
     "text": [
      "282it [00:01, 263.61it/s]\n",
      "282it [00:01, 258.20it/s]\n",
      "282it [00:01, 280.96it/s]\n",
      "282it [00:01, 278.82it/s]\n",
      "282it [00:01, 280.82it/s]\n",
      "282it [00:00, 283.81it/s]\n",
      "282it [00:00, 292.01it/s]\n",
      "282it [00:00, 304.92it/s]\n",
      "282it [00:01, 281.60it/s]\n",
      "282it [00:01, 281.01it/s]\n",
      "282it [00:01, 280.29it/s]\n",
      "282it [00:01, 275.25it/s]\n",
      "282it [00:01, 275.24it/s]\n",
      "282it [00:00, 285.36it/s]\n",
      "282it [00:01, 275.51it/s]\n",
      "282it [00:01, 275.56it/s]\n",
      "282it [00:01, 275.13it/s]\n",
      "282it [00:00, 291.57it/s]\n",
      "282it [00:01, 279.63it/s]\n",
      "282it [00:00, 282.13it/s]\n",
      "282it [00:01, 278.47it/s]\n",
      "282it [00:01, 270.33it/s]\n",
      "282it [00:01, 277.02it/s]\n",
      "282it [00:01, 275.92it/s]\n",
      "282it [00:00, 285.04it/s]\n",
      "282it [00:01, 275.92it/s]\n",
      "282it [00:01, 278.12it/s]\n",
      "282it [00:00, 283.18it/s]\n",
      "282it [00:00, 284.35it/s]\n",
      "282it [00:01, 277.13it/s]\n",
      "282it [00:00, 335.90it/s]\n",
      "282it [00:01, 273.28it/s]\n",
      "282it [00:01, 273.14it/s]\n",
      "282it [00:01, 279.69it/s]\n",
      "282it [00:01, 281.00it/s]\n",
      "282it [00:00, 284.43it/s]\n",
      "282it [00:01, 281.01it/s]\n",
      "282it [00:01, 276.09it/s]\n",
      "282it [00:01, 273.11it/s]\n",
      "282it [00:01, 278.59it/s]\n",
      "282it [00:00, 283.46it/s]\n",
      "282it [00:01, 281.52it/s]\n",
      "282it [00:01, 273.51it/s]\n",
      "282it [00:01, 274.27it/s]\n",
      "282it [00:01, 275.16it/s]\n",
      "282it [00:00, 288.45it/s]\n",
      "282it [00:00, 282.89it/s]\n",
      "282it [00:01, 259.94it/s]\n",
      "282it [00:01, 270.12it/s]\n",
      "282it [00:01, 274.49it/s]\n",
      "282it [00:01, 280.05it/s]\n",
      "282it [00:01, 276.98it/s]\n",
      "282it [00:01, 279.42it/s]\n",
      "282it [00:01, 279.15it/s]\n",
      "282it [00:01, 275.06it/s]\n",
      "282it [00:01, 279.35it/s]\n",
      "282it [00:01, 272.62it/s]\n",
      "282it [00:00, 283.13it/s]\n",
      "282it [00:00, 283.66it/s]\n",
      "282it [00:01, 280.11it/s]\n",
      "282it [00:00, 285.54it/s]\n",
      "282it [00:00, 282.63it/s]\n",
      "282it [00:00, 285.40it/s]\n",
      "282it [00:01, 280.63it/s]\n"
     ]
    }
   ],
   "source": [
    "# Обучаем модель\n",
    "\n",
    "train_batch_loss = []\n",
    "\n",
    "train_epoch_loss = []\n",
    "test_epoch_loss  = []\n",
    "val_epoch_loss   = []\n",
    "\n",
    "for epoch in range(64):\n",
    "    train_batch_loss = train_batch_loss + run_epoch(blade_chest_distance_model, optimizer = optimizer)\n",
    "    \n",
    "    train_prediction = get_prediction(train2_loader, blade_chest_distance_model)    # train2_loader - без shuffle\n",
    "    val_prediction   = get_prediction(val_loader,    blade_chest_distance_model)\n",
    "    test_prediction  = get_prediction(test_loader,   blade_chest_distance_model)  \n",
    "    \n",
    "    train_epoch_loss.append( log_loss(y_train, train_prediction) )\n",
    "    val_epoch_loss.append(   log_loss(y_val,   val_prediction)   )\n",
    "    test_epoch_loss.append(  log_loss(y_test,  test_prediction)  )\n"
   ]
  },
  {
   "cell_type": "code",
   "execution_count": 38,
   "id": "a120f6ae",
   "metadata": {},
   "outputs": [
    {
     "name": "stdout",
     "output_type": "stream",
     "text": [
      "Blade-chest model 0.0001866991733550094\n"
     ]
    }
   ],
   "source": [
    "val_prediction   = get_prediction(val_loader,    blade_chest_distance_model)\n",
    "val_prediction\n",
    "\n",
    "val_loss = log_loss(y_val, val_prediction)\n",
    "print('Blade-chest model', val_loss)"
   ]
  },
  {
   "cell_type": "code",
   "execution_count": 39,
   "id": "9cf9b716",
   "metadata": {},
   "outputs": [
    {
     "data": {
      "text/plain": [
       "Text(0, 0.5, 'loss')"
      ]
     },
     "execution_count": 39,
     "metadata": {},
     "output_type": "execute_result"
    },
    {
     "data": {
      "image/png": "[encoded data removed]",
      "text/plain": [
       "<Figure size 432x288 with 1 Axes>"
      ]
     },
     "metadata": {
      "needs_background": "light"
     },
     "output_type": "display_data"
    }
   ],
   "source": [
    "plt.plot(train_batch_loss)\n",
    "plt.yscale('log')\n",
    "plt.title('Batch Loss')\n",
    "plt.xlabel('batch')\n",
    "plt.ylabel('loss')"
   ]
  },
  {
   "cell_type": "code",
   "execution_count": 40,
   "id": "15ad732e",
   "metadata": {},
   "outputs": [
    {
     "data": {
      "text/plain": [
       "Text(0, 0.5, 'loss')"
      ]
     },
     "execution_count": 40,
     "metadata": {},
     "output_type": "execute_result"
    },
    {
     "data": {
      "image/png": "[encoded data removed]",
      "text/plain": [
       "<Figure size 432x288 with 1 Axes>"
      ]
     },
     "metadata": {
      "needs_background": "light"
     },
     "output_type": "display_data"
    }
   ],
   "source": [
    "plt.plot(train_epoch_loss, label = 'train')\n",
    "plt.plot(val_epoch_loss,   label = 'val'  )\n",
    "plt.plot(test_epoch_loss,  label = 'test' )\n",
    "plt.legend()\n",
    "plt.yscale('log')\n",
    "plt.title('Epoch Loss')\n",
    "plt.xlabel('epoch')\n",
    "plt.ylabel('loss')"
   ]
  },
  {
   "cell_type": "code",
   "execution_count": null,
   "id": "a47830f2",
   "metadata": {},
   "outputs": [],
   "source": []
  },
  {
   "cell_type": "code",
   "execution_count": 41,
   "id": "3b5f3807",
   "metadata": {},
   "outputs": [
    {
     "data": {
      "text/plain": [
       "(Linear(in_features=3, out_features=2, bias=True),\n",
       " Linear(in_features=3, out_features=2, bias=True))"
      ]
     },
     "execution_count": 41,
     "metadata": {},
     "output_type": "execute_result"
    }
   ],
   "source": [
    "blade_chest_distance_model.blade_emb, blade_chest_distance_model.chest_emb "
   ]
  },
  {
   "cell_type": "code",
   "execution_count": 42,
   "id": "e004762c",
   "metadata": {},
   "outputs": [
    {
     "name": "stdout",
     "output_type": "stream",
     "text": [
      "[[-1.6018585   1.568798   -0.24142067]\n",
      " [-1.337373    1.4071794  -1.5383244 ]]\n",
      "[[ 0.85449123  0.9645394  -1.1171577 ]\n",
      " [ 1.5154103  -0.10170816 -0.7263972 ]]\n"
     ]
    }
   ],
   "source": [
    "blade, chest = (\n",
    "    blade_chest_distance_model.blade_emb.weight.data.detach().cpu().numpy(),\n",
    "    blade_chest_distance_model.chest_emb.weight.data.detach().cpu().numpy()\n",
    ")\n",
    "\n",
    "print(blade)\n",
    "print(chest)"
   ]
  },
  {
   "cell_type": "code",
   "execution_count": 43,
   "id": "f8c328da",
   "metadata": {},
   "outputs": [
    {
     "name": "stdout",
     "output_type": "stream",
     "text": [
      "0 (0.85449123, 1.5154103, -2.4563498, -2.8527832)\n",
      "1 (0.9645394, -0.10170816, 0.60425854, 1.5088875)\n",
      "2 (-1.1171577, -0.7263972, 0.875737, -0.81192714)\n"
     ]
    },
    {
     "data": {
      "image/png": "[encoded data removed]",
      "text/plain": [
       "<Figure size 288x288 with 1 Axes>"
      ]
     },
     "metadata": {
      "needs_background": "light"
     },
     "output_type": "display_data"
    }
   ],
   "source": [
    "fig, ax = plt.subplots(1,1,figsize=(4,4))\n",
    "\n",
    "offset = [[-0.3, -0.3],  # rock\n",
    "          [-0.5, 0],      # paper\n",
    "          [-0.6, 0.2],      # scissors\n",
    "         ]\n",
    "\n",
    "for i, unit in enumerate(['rock', 'paper', 'scissors']):\n",
    "    unit_blade = blade[:,i]\n",
    "    unit_chest = chest[:,i]\n",
    "    x, y   = unit_chest\n",
    "    dx, dy = unit_blade - unit_chest\n",
    "    ox, oy = offset[i]\n",
    "    \n",
    "    print(i, (x, y, dx, dy))\n",
    "    ax.arrow(x,  y, \n",
    "             dx, dy, \n",
    "             head_width=0.1, head_length=0.25, fc='black', ec='black')\n",
    "    \n",
    "    ax.text(x + dx/2 + ox, y + dy/2 + oy, \n",
    "            s = unit, \n",
    "            size=12, ha='center', va='center', color='black')\n",
    "    \n",
    "plt.show()    \n",
    "#x, y"
   ]
  },
  {
   "cell_type": "markdown",
   "id": "2dcd1ef9",
   "metadata": {},
   "source": [
    "Ожидал, что получится, как в статье\n",
    "\n",
    "<img src=\"https://www.researchgate.net/profile/Thorsten-Joachims/publication/310825028/figure/fig9/AS:631996137086978@1527691029945/The-visualization-of-the-blade-chest-dist-model-trained-on-a-synthetic.png\" alt=\"Drawing\" style=\"width: 400px;\" align=\"left\" >\n",
    "\n"
   ]
  },
  {
   "cell_type": "markdown",
   "id": "1a377fb8",
   "metadata": {},
   "source": [
    "# LightGBM\n",
    "\n",
    "## Как НЕ получить результат\n",
    "\n",
    "Из-за особенностей данных, разбиение по любому отдельному признаку не приводит к улучшению качества прогноза."
   ]
  },
  {
   "cell_type": "code",
   "execution_count": 65,
   "id": "684f4b62",
   "metadata": {},
   "outputs": [],
   "source": [
    "data_train_lgb = np.concatenate([team1_train, team2_train], axis=1)\n",
    "data_val_lgb   = np.concatenate([team1_val,   team2_val],   axis=1)\n",
    "data_test_lgb  = np.concatenate([team1_test,  team2_test],  axis=1)"
   ]
  },
  {
   "cell_type": "code",
   "execution_count": 66,
   "id": "35050f30",
   "metadata": {},
   "outputs": [
    {
     "data": {
      "text/plain": [
       "array([[1, 0, 0, 0, 1, 0],\n",
       "       [0, 0, 1, 0, 1, 0],\n",
       "       [0, 0, 1, 0, 1, 0],\n",
       "       [0, 0, 1, 0, 1, 0]], dtype=uint8)"
      ]
     },
     "execution_count": 66,
     "metadata": {},
     "output_type": "execute_result"
    }
   ],
   "source": [
    "data_train_lgb[:4]"
   ]
  },
  {
   "cell_type": "code",
   "execution_count": 67,
   "id": "cb5e8abe",
   "metadata": {},
   "outputs": [
    {
     "name": "stdout",
     "output_type": "stream",
     "text": [
      "[LightGBM] [Warning] Unknown parameter: min_hess\n",
      "[LightGBM] [Warning] min_data_in_leaf is set with min_child_samples=20, will be overridden by min_data=1. Current value: min_data_in_leaf=1\n",
      "elapse:,  0.08458232879638672\n"
     ]
    }
   ],
   "source": [
    "lgb = LGBMClassifier(\n",
    "    n_jobs=10,\n",
    "    max_depth=3,\n",
    "    subsample=1,\n",
    "    n_estimators=100,\n",
    "    learning_rate=0.1,\n",
    "    colsample_bytree=1,\n",
    "    objective='binary',\n",
    "    boosting_type='gbdt',\n",
    "    min_data=1,\n",
    "    min_hess=0\n",
    ")\n",
    "\n",
    "start = time.time()\n",
    "lgb.fit(encoded_pairs_train, y_train.ravel())\n",
    "lgb_elapse = time.time() - start\n",
    "print('elapse:, ', lgb_elapse)"
   ]
  },
  {
   "cell_type": "code",
   "execution_count": 68,
   "id": "488c2d06",
   "metadata": {},
   "outputs": [
    {
     "name": "stdout",
     "output_type": "stream",
     "text": [
      "auc score val:  0.6666666666666667\n",
      "auc score test: 0.6666666666666667\n"
     ]
    }
   ],
   "source": [
    "y_pred_val = lgb.predict_proba(data_val_lgb)[:, 1]\n",
    "lgb_auc_val = roc_auc_score(y_val, y_pred_val)\n",
    "print('auc score val: ', lgb_auc_val)\n",
    "\n",
    "\n",
    "y_pred_test = lgb.predict_proba(data_test_lgb)[:, 1]\n",
    "lgb_auc_test = roc_auc_score(y_test, y_pred_test)\n",
    "print('auc score test:', lgb_auc_test)"
   ]
  },
  {
   "cell_type": "markdown",
   "id": "870e4a06",
   "metadata": {},
   "source": [
    "## Как получить результат\n",
    "\n",
    "Из-за особенностей данных, разбиение по любому отдельному признаку не приводит к улучшению качества прогноза.\n",
    "\n",
    "А разбиение сразу по паре признаков позволяет получить достоверные предсказания.\n",
    "\n",
    "Поэтому из пар признаков создаём комбинированные признаки-пары. Их и будем использовать"
   ]
  },
  {
   "cell_type": "code",
   "execution_count": 69,
   "id": "ffc03e80",
   "metadata": {},
   "outputs": [],
   "source": [
    "def get_pairs_arr(data_lgb):\n",
    "    pairs_arr = []\n",
    "    for arr in data_lgb:\n",
    "        res = int(\"\".join(str(x) for x in list(arr)), 2)\n",
    "        pairs_arr.extend([res])\n",
    "        \n",
    "    return pairs_arr"
   ]
  },
  {
   "cell_type": "code",
   "execution_count": 70,
   "id": "813727cc",
   "metadata": {},
   "outputs": [],
   "source": [
    "def encode_pairs(data_lgb):\n",
    "    pairs_arr = get_pairs_arr(data_lgb)     # 2^N encoding of pair\n",
    "    pairs = sorted(list(set(pairs_arr)))\n",
    "    n_pairs = len(pairs)\n",
    "    pair_dict = dict( zip( pairs, list( range(n_pairs) ) ) )\n",
    "    \n",
    "    result = []\n",
    "    for pair in pairs_arr:\n",
    "        extension = np.zeros(n_pairs)\n",
    "        extension[pair_dict[pair]] = 1\n",
    "        result.extend([extension])\n",
    "    \n",
    "    return result"
   ]
  },
  {
   "cell_type": "code",
   "execution_count": 71,
   "id": "08c02090",
   "metadata": {},
   "outputs": [],
   "source": [
    "encoded_pairs_train = encode_pairs(data_train_lgb)\n",
    "encoded_pairs_val   = encode_pairs(data_val_lgb)\n",
    "encoded_pairs_test  = encode_pairs(data_test_lgb)"
   ]
  },
  {
   "cell_type": "code",
   "execution_count": 72,
   "id": "90686a33",
   "metadata": {},
   "outputs": [
    {
     "data": {
      "text/plain": [
       "[array([0., 0., 0., 0., 0., 1.]),\n",
       " array([1., 0., 0., 0., 0., 0.]),\n",
       " array([1., 0., 0., 0., 0., 0.]),\n",
       " array([1., 0., 0., 0., 0., 0.])]"
      ]
     },
     "execution_count": 72,
     "metadata": {},
     "output_type": "execute_result"
    }
   ],
   "source": [
    "encoded_pairs_train[:4]"
   ]
  },
  {
   "cell_type": "code",
   "execution_count": 73,
   "id": "ecbb0e44",
   "metadata": {},
   "outputs": [
    {
     "name": "stdout",
     "output_type": "stream",
     "text": [
      "[LightGBM] [Warning] Unknown parameter: min_hess\n",
      "[LightGBM] [Warning] min_data_in_leaf is set with min_child_samples=20, will be overridden by min_data=1. Current value: min_data_in_leaf=1\n",
      "elapse:,  0.06427168846130371\n"
     ]
    }
   ],
   "source": [
    "lgb = LGBMClassifier(\n",
    "    n_jobs=10,\n",
    "    max_depth=3,\n",
    "    subsample=1,\n",
    "    n_estimators=100,\n",
    "    learning_rate=0.1,\n",
    "    colsample_bytree=1,\n",
    "    objective='binary',\n",
    "    boosting_type='gbdt',\n",
    "    min_data=1,\n",
    "    min_hess=0\n",
    ")\n",
    "\n",
    "start = time.time()\n",
    "lgb.fit(encoded_pairs_train, y_train.ravel())\n",
    "lgb_elapse = time.time() - start\n",
    "print('elapse:, ', lgb_elapse)"
   ]
  },
  {
   "cell_type": "code",
   "execution_count": 74,
   "id": "f40c04fd",
   "metadata": {},
   "outputs": [
    {
     "name": "stdout",
     "output_type": "stream",
     "text": [
      "auc score val:  1.0\n",
      "auc score test: 1.0\n"
     ]
    }
   ],
   "source": [
    "y_pred_val = lgb.predict_proba(encoded_pairs_val)[:, 1]\n",
    "lgb_auc_val = roc_auc_score(y_val, y_pred_val)\n",
    "print('auc score val: ', lgb_auc_val)\n",
    "\n",
    "\n",
    "y_pred_test = lgb.predict_proba(encoded_pairs_test)[:, 1]\n",
    "lgb_auc_test = roc_auc_score(y_test, y_pred_test)\n",
    "print('auc score test:', lgb_auc_test)"
   ]
  },
  {
   "cell_type": "code",
   "execution_count": null,
   "id": "a6a49d96",
   "metadata": {},
   "outputs": [],
   "source": []
  }
 ],
 "metadata": {
  "kernelspec": {
   "display_name": "Python 3",
   "language": "python",
   "name": "python3"
  },
  "language_info": {
   "codemirror_mode": {
    "name": "ipython",
    "version": 3
   },
   "file_extension": ".py",
   "mimetype": "text/x-python",
   "name": "python",
   "nbconvert_exporter": "python",
   "pygments_lexer": "ipython3",
   "version": "3.6.9"
  }
 },
 "nbformat": 4,
 "nbformat_minor": 5
}
