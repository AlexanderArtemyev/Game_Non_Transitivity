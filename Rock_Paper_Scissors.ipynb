{
 "cells": [
  {
   "cell_type": "code",
   "execution_count": 1,
   "id": "808ba35c",
   "metadata": {},
   "outputs": [],
   "source": [
    "import torch\n",
    "import numpy as np\n",
    "import pandas as pd\n",
    "\n",
    "import time\n",
    "\n",
    "import matplotlib.pyplot as plt\n",
    "from matplotlib.ticker import MultipleLocator, LogLocator\n",
    "\n",
    "#from google.colab import drive\n",
    "\n",
    "import torch\n",
    "import torch.nn as nn\n",
    "from torch.utils.data import TensorDataset, DataLoader\n",
    "\n",
    "from scipy.stats import pearsonr, spearmanr, kendalltau\n",
    "\n",
    "from sklearn.model_selection import train_test_split\n",
    "from sklearn.preprocessing import StandardScaler, OneHotEncoder\n",
    "from sklearn.metrics import log_loss\n",
    "from tqdm import tqdm\n",
    "from sklearn.linear_model import LogisticRegression\n",
    "\n",
    "from sklearn.metrics import roc_auc_score\n",
    "\n",
    "#import lightgbm as lgb\n",
    "from lightgbm import LGBMClassifier\n",
    "from lightgbm import plot_importance\n",
    "\n",
    "import itertools"
   ]
  },
  {
   "cell_type": "markdown",
   "id": "6f416d45",
   "metadata": {},
   "source": [
    "# Shuo Chen's blade-chest model: модель сабля-рука\n",
    "Papers\n",
    "\n",
    "* \"Modeling Intransitivity in Matchup and Comparison Data\", Shuo Chen and Thorsten Joachims, <br> https://www.cs.cornell.edu/~shuochen/pubs/wsdm16_chen.pdf <br>\n",
    "* \"Predicting Matchups and Preferences in Context\", Shuo Chen and Thorsten Joachims, <br> http://csinpi.github.io/pubs/kdd16_chen.pdf\n",
    "\n",
    "Original code\n",
    "* https://github.com/csinpi/blade_chest\n",
    "* https://github.com/csinpi/matchup"
   ]
  },
  {
   "cell_type": "markdown",
   "id": "69a01e6f",
   "metadata": {},
   "source": [
    "#### A metaphorical illustration of the blade-chest model for intransitivity\n",
    "\n",
    "Player a and player b are in a sword duel. Player a's blade is closer to player b's chest than vice versa, as shown by the two blue dashed lines. This illustrates how player a has a better chance of winning than player b. \n",
    "\n",
    "* https://www.researchgate.net/figure/A-metaphorical-illustration-of-the-blade-chest-model-for-intransitivity-Player-a-and_fig1_310825028\n",
    "\n",
    "<img src=\"https://www.researchgate.net/profile/Thorsten-Joachims/publication/310825028/figure/fig1/AS:631996141297666@1527691030297/A-metaphorical-illustration-of-the-blade-chest-model-for-intransitivity-Player-a-and.png\" alt=\"Drawing\" style=\"width: 400px;\" >\n",
    "\n",
    "\n",
    "<img src=\"https://www.researchgate.net/profile/Thorsten-Joachims/publication/310825028/figure/fig4/AS:631996141277186@1527691030147/Pipeline-of-CONCAT-model.png\" alt=\"Drawing\" style=\"width: 600px;\" >"
   ]
  },
  {
   "cell_type": "code",
   "execution_count": null,
   "id": "381a5f4b",
   "metadata": {},
   "outputs": [],
   "source": []
  },
  {
   "cell_type": "markdown",
   "id": "20e99a4a",
   "metadata": {},
   "source": [
    "## \"Modeling Intransitivity in Matchup and Comparison Data\"\n",
    "\n",
    "\"Modeling Intransitivity in Matchup and Comparison Data\", Shuo Chen and Thorsten Joachims, <br> https://www.cs.cornell.edu/~shuochen/pubs/wsdm16_chen.pdf \n",
    "\n",
    "### 4. EXPERIMENTS\n",
    "#### 4.1 Synthetic datasets\n",
    "\n",
    "To demonstrate that our proposed model can capture intransitivity on synthetic datasets, we begin by looking at the classic rockpaper-scissors game. The training dataset is generated as follows:\n",
    "there are three players, namely rock, paper and scissors. \n",
    "We generate 3, 000 games among them, with rock beating scissors 1,000\n",
    "times, scissors beating paper 1,000 times, and paper beating rock\n",
    "1,000 times. We trained our blade-chest-dist model without the\n",
    "bias term, and we set the dimensionality of the vectors to be d = 2.\n",
    "We then visualize the learned model in the left panel of Figure 2.\n",
    "Each player is represented by an arrow, with the head being its\n",
    "blade vector, and the tail being its chest vector. The interlocking\n",
    "pattern in the visualization is evidence that our model captures the\n",
    "intransitive rule between the rock, paper and scissors.\n",
    "\n",
    "There is also an interesting extension of the original rock-paperscissors game in popular culture called \n",
    "rock-paper-scissors-lizard-Spock. In addition to the three-way intransitivity between rock,\n",
    "paper and scissors, new rules for the other two players are added,\n",
    "and a graphical demonstration of the rules can be found here. \n",
    "We generated 1, 000 matches for each matchup, and then do the training and visualization analogous to the classic rock-paper-scissors game. The results are shown in the right panel of Figure 2. Here\n",
    "we observe the similar interlocking pattern, with each of the 10\n",
    "matchups correctly demonstrated."
   ]
  },
  {
   "cell_type": "code",
   "execution_count": null,
   "id": "2319c940",
   "metadata": {},
   "outputs": [],
   "source": []
  },
  {
   "cell_type": "code",
   "execution_count": 2,
   "id": "0786081c",
   "metadata": {},
   "outputs": [],
   "source": [
    "def generate_dataset(units = ['rock', 'paper', 'scissors'], \n",
    "                     match = {   ('rock', 'paper')     : 0,\n",
    "                                  ('rock', 'scissors')  : 1,\n",
    "                             #     ('rock', 'rock')      : 0.5,\n",
    "                                 \n",
    "                                  ('paper', 'scissors') : 0,\n",
    "                                  ('paper', 'rock', )   : 1,\n",
    "                             #     ('paper', 'paper')    : 0.5,\n",
    "                                 \n",
    "                                  ('scissors', 'rock', )   : 0,\n",
    "                                  ('scissors', 'paper')    : 1,\n",
    "                             #     ('scissors', 'scissors') : 0.5\n",
    "                                },\n",
    "                     n = 1000, \n",
    "                     random_seed = 1543\n",
    "                    ):\n",
    "    \n",
    "    n_units = len(units)\n",
    "    arr = []\n",
    "\n",
    "    j = 0\n",
    "    for i_1, unit_1 in enumerate(units):\n",
    "        for i_2, unit_2 in enumerate(units):\n",
    "            \n",
    "            if unit_1 == unit_2:                   # Исключаем ничьи\n",
    "                continue\n",
    "            \n",
    "            for i in range (n):\n",
    "                arr.extend( [[ i_1, i_2, match[(unit_1, unit_2)] ]] ) \n",
    "                j += 1\n",
    "          \n",
    "    np.random.seed(random_seed)\n",
    "    np.random.shuffle(arr)\n",
    "       \n",
    "    return np.array(arr)"
   ]
  },
  {
   "cell_type": "code",
   "execution_count": 3,
   "id": "7ad7d6b6",
   "metadata": {},
   "outputs": [],
   "source": [
    "def get_team_encoding(X, columns, prefix):\n",
    "    result = 0\n",
    "    for col in columns:\n",
    "        result += pd.get_dummies(X[:, col], prefix = '_'.join([prefix, str(col)]) )\n",
    "    return result"
   ]
  },
  {
   "cell_type": "markdown",
   "id": "680eb2a8",
   "metadata": {},
   "source": [
    "## Формируем данные train, val, test\n",
    "\n",
    "Контролируем доли матчей разных видов"
   ]
  },
  {
   "cell_type": "code",
   "execution_count": 4,
   "id": "131b9dd8",
   "metadata": {},
   "outputs": [
    {
     "data": {
      "text/plain": [
       "(18000, 6000, 6000)"
      ]
     },
     "execution_count": 4,
     "metadata": {},
     "output_type": "execute_result"
    }
   ],
   "source": [
    "data_train = generate_dataset(n = 6000, random_seed = 1)\n",
    "data_val   = generate_dataset(n = 2000, random_seed = 2)\n",
    "data_test  = generate_dataset(n = 2000, random_seed = 3)\n",
    "\n",
    "X_train = data_train[:,:2]\n",
    "y_train = data_train[:,2:3]\n",
    "\n",
    "X_val   = data_val[:,:2]\n",
    "y_val   = data_val[:,2:3]\n",
    "\n",
    "X_test  = data_test[:,:2]\n",
    "y_test  = data_test[:,2:3]\n",
    "\n",
    "y_train.sum(), y_val.sum(), y_test.sum()"
   ]
  },
  {
   "cell_type": "code",
   "execution_count": 5,
   "id": "88873b21",
   "metadata": {},
   "outputs": [],
   "source": [
    "team1_train = get_team_encoding( X_train, columns=[0], prefix='team1' )\n",
    "team2_train = get_team_encoding( X_train, columns=[1], prefix='team2' )\n",
    "\n",
    "team1_val   = get_team_encoding( X_val,   columns=[0], prefix='team1' )\n",
    "team2_val   = get_team_encoding( X_val,   columns=[1], prefix='team2' )\n",
    "\n",
    "team1_test  = get_team_encoding( X_test,  columns=[0], prefix='team1' )\n",
    "team2_test  = get_team_encoding( X_test,  columns=[1], prefix='team2' )"
   ]
  },
  {
   "cell_type": "code",
   "execution_count": 6,
   "id": "fbb1ea33",
   "metadata": {},
   "outputs": [
    {
     "data": {
      "text/plain": [
       "1_0_0_0_1_0    6000\n",
       "1_0_0_0_0_1    6000\n",
       "0_1_0_1_0_0    6000\n",
       "0_1_0_0_0_1    6000\n",
       "0_0_1_1_0_0    6000\n",
       "0_0_1_0_1_0    6000\n",
       "dtype: int64"
      ]
     },
     "execution_count": 6,
     "metadata": {},
     "output_type": "execute_result"
    }
   ],
   "source": [
    "# Проверим, какие комбинации в каком количестве представлены\n",
    "# train\n",
    "pd.concat([team1_train, team2_train], axis=1\n",
    "         ).apply(lambda x: '_'.join(list(map(str, x))), \n",
    "                 axis=1\n",
    "                ).value_counts().sort_index(ascending=False)\n",
    "\n"
   ]
  },
  {
   "cell_type": "code",
   "execution_count": 7,
   "id": "5c2a9b4a",
   "metadata": {},
   "outputs": [
    {
     "data": {
      "text/plain": [
       "1_0_0_0_1_0    2000\n",
       "1_0_0_0_0_1    2000\n",
       "0_1_0_1_0_0    2000\n",
       "0_1_0_0_0_1    2000\n",
       "0_0_1_1_0_0    2000\n",
       "0_0_1_0_1_0    2000\n",
       "dtype: int64"
      ]
     },
     "execution_count": 7,
     "metadata": {},
     "output_type": "execute_result"
    }
   ],
   "source": [
    "# Проверим, какие комбинации в каком количестве представлены\n",
    "# val\n",
    "pd.concat([team1_val, team2_val], axis=1\n",
    "         ).apply(lambda x: '_'.join(list(map(str, x))), \n",
    "                 axis=1\n",
    "                ).value_counts().sort_index(ascending=False)"
   ]
  },
  {
   "cell_type": "markdown",
   "id": "c4eb066e",
   "metadata": {},
   "source": [
    "* #### Формируем данные и разбиваем их на train, val, test <br> <br> Не используется"
   ]
  },
  {
   "cell_type": "code",
   "execution_count": 8,
   "id": "216c0ece",
   "metadata": {},
   "outputs": [],
   "source": [
    "# data = generate_dataset(n = 10000)\n",
    "\n",
    "# X = data[:,:2]\n",
    "# Y = data[:,2:3]"
   ]
  },
  {
   "cell_type": "code",
   "execution_count": 9,
   "id": "0c601285",
   "metadata": {},
   "outputs": [],
   "source": [
    "# team1_encoding = get_team_encoding( X, columns=[0], prefix='team1' )\n",
    "# team2_encoding = get_team_encoding( X, columns=[1], prefix='team2' )"
   ]
  },
  {
   "cell_type": "code",
   "execution_count": 10,
   "id": "bea620eb",
   "metadata": {},
   "outputs": [],
   "source": [
    "# (team1_train_test, team1_val, \n",
    "#  team2_train_test, team2_val, \n",
    "#  y_train_test, y_val) = train_test_split(team1_encoding, \n",
    "#                                          team2_encoding, \n",
    "#                                          Y, \n",
    "#                                          test_size = 0.20,\n",
    "#                                          shuffle = True, \n",
    "#                                          random_state=1543 )\n",
    "\n",
    "# (team1_train, team1_test, \n",
    "#  team2_train, team2_test, \n",
    "#  y_train, y_test) = train_test_split(team1_train_test, \n",
    "#                                      team2_train_test, \n",
    "#                                      y_train_test, \n",
    "#                                      test_size = 0.25,\n",
    "#                                      shuffle = True, \n",
    "#                                      random_state=1543 )\n",
    "\n",
    "# print(team1_train.shape, team1_test.shape, team1_val.shape)\n",
    "# print(team2_train.shape, team2_test.shape, team2_val.shape)\n",
    "# print(y_train.shape,      y_test.shape,    y_val.shape)"
   ]
  },
  {
   "cell_type": "code",
   "execution_count": 11,
   "id": "68677845",
   "metadata": {},
   "outputs": [],
   "source": [
    "# X_train = pd.concat([team1_train, team2_train], axis=1)\n",
    "# X_train.head()"
   ]
  },
  {
   "cell_type": "code",
   "execution_count": 12,
   "id": "12dc1274",
   "metadata": {},
   "outputs": [],
   "source": [
    "# # Проверим, какие комбинации в каком количестве представлены\n",
    "\n",
    "# pd.concat([team1_train, team2_train], axis=1\n",
    "#          ).apply(lambda x: '_'.join(list(map(str, x))), \n",
    "#                  axis=1\n",
    "#                 ).value_counts().sort_index(ascending=False)"
   ]
  },
  {
   "cell_type": "markdown",
   "id": "78d4edc9",
   "metadata": {},
   "source": [
    "## Подготовим данные для обучения"
   ]
  },
  {
   "cell_type": "code",
   "execution_count": 13,
   "id": "acf49871",
   "metadata": {},
   "outputs": [],
   "source": [
    "def get_set(team1_train, team2_train, y_train):\n",
    "    team1_train = torch.cuda.FloatTensor(team1_train.values)\n",
    "    team2_train = torch.cuda.FloatTensor(team2_train.values)\n",
    "    y_train     = torch.cuda.FloatTensor(y_train)\n",
    "    train_set   = TensorDataset(team1_train, team2_train, y_train)\n",
    "    return train_set\n",
    "\n",
    "train_set = get_set(team1_train, team2_train, y_train)\n",
    "val_set   = get_set(team1_val,   team2_val,   y_val  )\n",
    "test_set  = get_set(team1_test,  team2_test,  y_test )"
   ]
  },
  {
   "cell_type": "code",
   "execution_count": 14,
   "id": "9acab0a9",
   "metadata": {},
   "outputs": [
    {
     "data": {
      "text/plain": [
       "(tensor([1., 0., 0.], device='cuda:0'),\n",
       " tensor([0., 1., 0.], device='cuda:0'),\n",
       " tensor([0.], device='cuda:0'))"
      ]
     },
     "execution_count": 14,
     "metadata": {},
     "output_type": "execute_result"
    }
   ],
   "source": [
    "train_set[0]"
   ]
  },
  {
   "cell_type": "code",
   "execution_count": 15,
   "id": "f3004380",
   "metadata": {},
   "outputs": [],
   "source": [
    "# Объединяем данные в батчи\n",
    "\n",
    "# Обучение\n",
    "# train_loader -- перемешиваем данные при загрузке, shuffle = True, \n",
    "#                 чтобы каждая эпоха училась чуть по-разному\n",
    "train_loader  = DataLoader(train_set, batch_size = 128, shuffle = True)\n",
    "\n",
    "# Оценка качества прогноза\n",
    "train2_loader = DataLoader(train_set, batch_size = 128, shuffle = False)\n",
    "val_loader    = DataLoader(val_set,   batch_size = 128, shuffle = False)\n",
    "test_loader   = DataLoader(test_set,  batch_size = 128, shuffle = False)\n",
    "\n",
    "# Пример прогноза и визуализация\n",
    "val1_loader   = DataLoader(val_set,   batch_size = 1,   shuffle = False)"
   ]
  },
  {
   "cell_type": "markdown",
   "id": "ee403212",
   "metadata": {},
   "source": [
    "## Модель: Shuo Chen's blade-chest inner model\n",
    "\n",
    "\n",
    "### Модель\n",
    "* Модель матча   $ M(a,b)$ - разность скалярных произведений <br>  $ M(a,b) = {( \\mathbf{a}_{blade} \\cdot \\mathbf{b}_{chest} )} - {( \\mathbf{b}_{blade} \\cdot \\mathbf{a}_{chest} )} $ <br><br>\n",
    "* Embedding без bias: nn.Linear(num_units, num_embeddings, bias=False)\n",
    "\n",
    "<br><br>\n",
    "* С контрольной печатью в forward\n",
    "\n",
    "### Оптимизация\n",
    "* с $L_2$ регуляризацией коэффициентов матриц $blade\\_emb$ и $chest\\_emb$\n",
    "* с $L_2$ регуляризацией разности $blade\\_emb - chest\\_emb$\n",
    "\n",
    "### Визуалиазация\n",
    "* с контрольной печатью и картинкой"
   ]
  },
  {
   "cell_type": "code",
   "execution_count": 16,
   "id": "9ddeeafc",
   "metadata": {},
   "outputs": [],
   "source": [
    "# Параметры модели\n",
    "\n",
    "num_u   = 3        # 3 объекта: камень, ножницы, бумага      # team1_train_test.shape[1]\n",
    "num_emb = 2        # 2-мерная модель"
   ]
  },
  {
   "cell_type": "code",
   "execution_count": 17,
   "id": "a1a14190",
   "metadata": {},
   "outputs": [],
   "source": [
    "def batch_dot(x, y):\n",
    "    return (x * y).sum(dim=1, keepdims=True)\n",
    "\n",
    "class BladeChest(nn.Module):\n",
    "    def __init__(self, num_units=num_u, num_embeddings=num_emb, verbose = False):\n",
    "        super(BladeChest, self).__init__()\n",
    "        self.blade_emb = nn.Linear(num_units, num_embeddings, bias=False)\n",
    "        self.chest_emb = nn.Linear(num_units, num_embeddings, bias=False)\n",
    "\n",
    "    def forward(self, batch, verbose = False):\n",
    "        team1, team2 = batch\n",
    "        team1_blade = self.blade_emb(team1)\n",
    "        team2_blade = self.blade_emb(team2)\n",
    "        team1_chest = self.chest_emb(team1)\n",
    "        team2_chest = self.chest_emb(team2)\n",
    "\n",
    "        team1_attack = batch_dot(team1_blade, team2_chest)\n",
    "        team2_attack = batch_dot(team2_blade, team1_chest)\n",
    "        \n",
    "        logits = team1_attack - team2_attack\n",
    "        \n",
    "        # -------------------------------------------\n",
    "        if verbose:\n",
    "            \n",
    "            print('------------')\n",
    "            for param in blade_chest_model.named_parameters():\n",
    "                print(param)\n",
    "                print()\n",
    "    \n",
    "            print('------------')\n",
    "            print('team1       ', team1)\n",
    "            print('team1_blade ', team1_blade)\n",
    "            print('team1_chest ', team1_chest)\n",
    "            print(              )\n",
    "            print('team2       ', team2)\n",
    "            print('team2_blade ', team2_blade)\n",
    "            print('team2_chest ', team2_chest)\n",
    "            print(              )\n",
    "            print('team1_attack', team1_attack)\n",
    "            print('team2_attack', team2_attack)\n",
    "            print(              )\n",
    "            print('logits      ', logits)\n",
    "            print('prob        ', torch.sigmoid(logits))\n",
    "        # -------------------------------------------\n",
    "        \n",
    "        return logits\n",
    "    \n",
    "    \n",
    "#     def forward_print(self, batch):\n",
    "#         team1, team2 = batch\n",
    "#         team1_blade = self.blade_emb(team1)\n",
    "#         team2_blade = self.blade_emb(team2)\n",
    "#         team1_chest = self.chest_emb(team1)\n",
    "#         team2_chest = self.chest_emb(team2)\n",
    "\n",
    "#         team1_attack = batch_dot(team1_blade, team2_chest)\n",
    "#         team2_attack = batch_dot(team2_blade, team1_chest)\n",
    "        \n",
    "#         logits = team1_attack - team2_attack\n",
    "        \n",
    "#         print('------------')\n",
    "#         for param in blade_chest_model.named_parameters():\n",
    "#             print(param)\n",
    "#             print()\n",
    "    \n",
    "#         print('------------')\n",
    "#         print('team1       ', team1)\n",
    "#         print('team1_blade ', team1_blade)\n",
    "#         print('team1_chest ', team1_chest)\n",
    "#         print(              )\n",
    "#         print('team2       ', team2)\n",
    "#         print('team2_blade ', team2_blade)\n",
    "#         print('team2_chest ', team2_chest)\n",
    "#         print(              )\n",
    "#         print('team1_attack', team1_attack)\n",
    "#         print('team2_attack', team2_attack)\n",
    "#         print(              )\n",
    "#         print('logits      ', logits)\n",
    "#         print('prob        ', torch.sigmoid(logits))\n",
    "        \n",
    "#         return logits\n"
   ]
  },
  {
   "cell_type": "code",
   "execution_count": 18,
   "id": "1ebbfd4a",
   "metadata": {},
   "outputs": [],
   "source": [
    "# def batch_dot(x, y):\n",
    "#     return (x * y).sum(dim=1, keepdims=True)\n",
    "\n",
    "# class BladeChest(nn.Module):\n",
    "#     def __init__(self, num_units=num_u, num_embeddings=num_emb):\n",
    "#         super(BladeChest, self).__init__()\n",
    "#         self.blade_emb = nn.Linear(num_units, num_embeddings)\n",
    "#         self.chest_emb = nn.Linear(num_units, num_embeddings)\n",
    "\n",
    "#     def forward(self, batch, verbose):\n",
    "#         team1, team2 = batch\n",
    "#         team1_blade = self.blade_emb(team1)\n",
    "#         team2_blade = self.blade_emb(team2)\n",
    "#         team1_chest = self.chest_emb(team1)\n",
    "#         team2_chest = self.chest_emb(team2)\n",
    "\n",
    "#         team1_attack = batch_dot(team1_blade, team2_chest)\n",
    "#         team2_attack = batch_dot(team2_blade, team1_chest)\n",
    "        \n",
    "#         logits = team1_attack - team2_attack\n",
    "#         return logits"
   ]
  },
  {
   "cell_type": "code",
   "execution_count": 19,
   "id": "6b22f3f7",
   "metadata": {},
   "outputs": [],
   "source": [
    "# Объявляем модель\n",
    "blade_chest_model = BladeChest( num_units      = num_u, \n",
    "                                num_embeddings = num_emb\n",
    "                              ).cuda()\n",
    "\n",
    "# Функция потерь\n",
    "crossentropy = nn.BCEWithLogitsLoss()\n",
    "\n",
    "# Оптимизатор\n",
    "optimizer = torch.optim.Adam(blade_chest_model.parameters(), \n",
    "                             lr=1e-4)"
   ]
  },
  {
   "cell_type": "code",
   "execution_count": 20,
   "id": "8a348c6f",
   "metadata": {},
   "outputs": [
    {
     "name": "stdout",
     "output_type": "stream",
     "text": [
      "Parameter containing:\n",
      "tensor([[-0.1785,  0.2558,  0.1430],\n",
      "        [ 0.5690, -0.5564,  0.2387]], device='cuda:0', requires_grad=True)\n",
      "Parameter containing:\n",
      "tensor([[-0.2316,  0.1022,  0.3206],\n",
      "        [ 0.2713, -0.1109, -0.0910]], device='cuda:0', requires_grad=True)\n",
      "[[-0.17854309  0.25575334  0.14296636]\n",
      " [ 0.56903255 -0.5563687   0.23872653]]\n",
      "[[-0.23155394  0.10217609  0.3206492 ]\n",
      " [ 0.2713158  -0.11086145 -0.09100791]]\n"
     ]
    },
    {
     "data": {
      "text/plain": [
       "tensor(0.6736, device='cuda:0', grad_fn=<CopyBackwards>)"
      ]
     },
     "execution_count": 20,
     "metadata": {},
     "output_type": "execute_result"
    }
   ],
   "source": [
    "blade_emb = next( blade_chest_model.blade_emb.parameters())\n",
    "chest_emb = next( blade_chest_model.chest_emb.parameters())\n",
    "#\n",
    "print(blade_emb)\n",
    "print(chest_emb)\n",
    "\n",
    "\n",
    "print(blade_emb.detach().cpu().numpy())\n",
    "print(chest_emb.detach().cpu().numpy())\n",
    "\n",
    "torch.norm(blade_emb - chest_emb)"
   ]
  },
  {
   "cell_type": "code",
   "execution_count": 21,
   "id": "1c7e353d",
   "metadata": {},
   "outputs": [],
   "source": [
    "def run_epoch(model, \n",
    "              optimizer = optimizer, \n",
    "              training=True, \n",
    "              L2 = 0,                 # Регуляризация L2 для коэффициентов модели\n",
    "              L2_diff = 0,            # Регуляризация L2 для коэффициентов разности: blade - chest\n",
    "             ):\n",
    "    '''\n",
    "    Оптимизация модели для одной эпохи\n",
    "    + Добавлена регуляризация: L2, L2_diff\n",
    "    + Добавлена контрольная печать: verbose\n",
    "    '''\n",
    "    \n",
    "    loss_values = []\n",
    "    \n",
    "    model.train(training)\n",
    "    \n",
    "    dataloader = train_loader if training else val_loader\n",
    "    \n",
    "    for i, (batch_team1, batch_team2, batch_y) in tqdm(enumerate(dataloader)):\n",
    "        out = model((batch_team1, batch_team2), verbose=False)\n",
    "        optimizer.zero_grad()\n",
    "        \n",
    "        #print(out.dtype, batch_y.dtype)\n",
    "        batch_loss = crossentropy(out, batch_y)\n",
    "\n",
    "        # Регуляризация весов, но не свободных членов.\n",
    "        # Adapted from: https://stackoverflow.com/questions/42704283/adding-l1-l2-regularization-in-pytorch\n",
    "        if L2 > 0:\n",
    "            L2_reg = torch.tensor(0., requires_grad=True)\n",
    "            for name, param in model.named_parameters():\n",
    "                if 'weight' in name:\n",
    "                    L2_reg = L2_reg + torch.norm(param, 2)\n",
    "            batch_loss = batch_loss + L2 * L2_reg\n",
    "        \n",
    "        if L2_diff > 0:\n",
    "            L2_diff_reg = torch.tensor(0., requires_grad=True)\n",
    "            blade_emb = next( blade_chest_model.blade_emb.parameters())\n",
    "            chest_emb = next( blade_chest_model.chest_emb.parameters())\n",
    "            L2_diff_reg = torch.norm(blade_emb - chest_emb, 2)\n",
    "            batch_loss = batch_loss + L2_diff * L2_diff_reg\n",
    "\n",
    "        if training:\n",
    "            batch_loss.backward()\n",
    "            optimizer.step()\n",
    "            \n",
    "        loss_values.append(batch_loss.item())\n",
    "        \n",
    "    return loss_values"
   ]
  },
  {
   "cell_type": "code",
   "execution_count": 22,
   "id": "e6641dc5",
   "metadata": {},
   "outputs": [],
   "source": [
    "def get_prediction(dataloader, model, verbose=False):\n",
    "    '''\n",
    "    Прогноз для данных\n",
    "    + Добавлена контрольная печать: verbose\n",
    "    '''\n",
    "    result = []\n",
    "       \n",
    "    for i, (batch_team1, batch_team2, y) in enumerate(dataloader):  # dataloader yields (batch_team1, batch_team2, y)\n",
    "        out = torch.sigmoid( model.forward((batch_team1, batch_team2), verbose = verbose) )\n",
    "        out = list( out.detach().cpu()[:,0].numpy() )\n",
    "        result.extend(out)\n",
    "        \n",
    "    return result"
   ]
  },
  {
   "cell_type": "code",
   "execution_count": 23,
   "id": "5bfab189",
   "metadata": {
    "scrolled": true
   },
   "outputs": [
    {
     "name": "stderr",
     "output_type": "stream",
     "text": [
      "282it [00:01, 203.69it/s]\n",
      "282it [00:01, 203.71it/s]\n",
      "282it [00:01, 215.07it/s]\n",
      "282it [00:01, 226.75it/s]\n",
      "282it [00:01, 196.02it/s]\n",
      "282it [00:01, 230.82it/s]\n",
      "282it [00:01, 248.41it/s]\n",
      "282it [00:01, 207.16it/s]\n",
      "282it [00:01, 243.31it/s]\n",
      "282it [00:01, 273.07it/s]\n",
      "282it [00:00, 283.17it/s]\n",
      "282it [00:01, 261.17it/s]\n",
      "282it [00:01, 271.85it/s]\n",
      "282it [00:01, 200.33it/s]\n",
      "282it [00:01, 226.83it/s]\n",
      "282it [00:01, 264.80it/s]\n",
      "282it [00:01, 202.00it/s]\n",
      "282it [00:01, 245.06it/s]\n",
      "282it [00:01, 201.83it/s]\n",
      "282it [00:01, 199.59it/s]\n",
      "282it [00:01, 202.33it/s]\n",
      "282it [00:01, 223.11it/s]\n",
      "282it [00:01, 279.43it/s]\n",
      "282it [00:01, 274.08it/s]\n",
      "282it [00:01, 207.86it/s]\n",
      "282it [00:01, 247.41it/s]\n",
      "282it [00:01, 275.26it/s]\n",
      "282it [00:01, 253.24it/s]\n",
      "282it [00:00, 354.09it/s]\n",
      "282it [00:00, 286.85it/s]\n",
      "282it [00:01, 264.94it/s]\n",
      "282it [00:01, 231.85it/s]\n",
      "282it [00:01, 225.24it/s]\n",
      "282it [00:01, 272.22it/s]\n",
      "282it [00:01, 232.79it/s]\n",
      "282it [00:01, 219.28it/s]\n",
      "282it [00:01, 203.49it/s]\n",
      "282it [00:01, 212.22it/s]\n",
      "282it [00:01, 247.91it/s]\n",
      "282it [00:01, 240.00it/s]\n",
      "282it [00:01, 272.64it/s]\n",
      "282it [00:01, 268.85it/s]\n",
      "282it [00:01, 261.56it/s]\n",
      "282it [00:01, 211.86it/s]\n",
      "282it [00:01, 198.99it/s]\n",
      "282it [00:01, 257.95it/s]\n",
      "282it [00:01, 237.53it/s]\n",
      "282it [00:01, 207.71it/s]\n",
      "282it [00:01, 207.17it/s]\n",
      "282it [00:01, 203.91it/s]\n",
      "282it [00:01, 208.57it/s]\n",
      "282it [00:01, 208.60it/s]\n",
      "282it [00:01, 212.96it/s]\n",
      "282it [00:01, 215.91it/s]\n",
      "282it [00:00, 282.83it/s]\n",
      "282it [00:00, 288.16it/s]\n",
      "282it [00:01, 273.42it/s]\n",
      "282it [00:01, 276.57it/s]\n",
      "282it [00:01, 274.42it/s]\n",
      "282it [00:01, 281.61it/s]\n",
      "282it [00:00, 284.39it/s]\n",
      "282it [00:01, 276.43it/s]\n",
      "282it [00:00, 283.64it/s]\n",
      "282it [00:00, 289.11it/s]\n",
      "282it [00:00, 284.24it/s]\n",
      "282it [00:01, 275.83it/s]\n",
      "282it [00:00, 285.31it/s]\n",
      "282it [00:00, 289.69it/s]\n",
      "282it [00:00, 293.20it/s]\n",
      "282it [00:01, 281.22it/s]\n",
      "282it [00:00, 285.17it/s]\n",
      "282it [00:00, 345.44it/s]\n",
      "282it [00:00, 374.11it/s]\n",
      "282it [00:00, 290.08it/s]\n",
      "282it [00:00, 284.71it/s]\n",
      "282it [00:00, 285.90it/s]\n",
      "282it [00:00, 288.14it/s]\n",
      "282it [00:00, 292.21it/s]\n",
      "282it [00:01, 281.76it/s]\n",
      "282it [00:00, 290.50it/s]\n",
      "282it [00:00, 284.78it/s]\n",
      "282it [00:00, 284.73it/s]\n",
      "282it [00:00, 286.61it/s]\n",
      "282it [00:00, 286.79it/s]\n",
      "282it [00:01, 279.76it/s]\n",
      "282it [00:00, 283.32it/s]\n",
      "282it [00:00, 291.03it/s]\n",
      "282it [00:00, 282.61it/s]\n",
      "282it [00:01, 277.87it/s]\n",
      "282it [00:00, 282.01it/s]\n",
      "282it [00:00, 292.25it/s]\n",
      "282it [00:00, 294.01it/s]\n",
      "282it [00:00, 292.45it/s]\n",
      "282it [00:00, 290.11it/s]\n",
      "282it [00:00, 283.49it/s]\n",
      "282it [00:00, 289.09it/s]\n",
      "282it [00:00, 289.78it/s]\n",
      "282it [00:01, 277.02it/s]\n",
      "282it [00:00, 282.32it/s]\n",
      "282it [00:00, 291.31it/s]\n"
     ]
    }
   ],
   "source": [
    "# Обучаем модель\n",
    "\n",
    "train_batch_loss = []\n",
    "\n",
    "train_epoch_loss = []\n",
    "test_epoch_loss  = []\n",
    "val_epoch_loss   = []\n",
    "\n",
    "for epoch in range(100):\n",
    "    train_batch_loss = train_batch_loss + run_epoch(blade_chest_model, optimizer = optimizer,\n",
    "                                                    L2 = 1e-3, \n",
    "                                                    L2_diff = 0)\n",
    "    \n",
    "    train_prediction = get_prediction(train2_loader, blade_chest_model, verbose=False)    # train2_loader - без shuffle\n",
    "    val_prediction   = get_prediction(val_loader,    blade_chest_model, verbose=False)\n",
    "    test_prediction  = get_prediction(test_loader,   blade_chest_model, verbose=False)  \n",
    "    \n",
    "    train_epoch_loss.append( log_loss(y_train, train_prediction) )\n",
    "    val_epoch_loss.append(   log_loss(y_val,   val_prediction)   )\n",
    "    test_epoch_loss.append(  log_loss(y_test,  test_prediction)  )\n"
   ]
  },
  {
   "cell_type": "code",
   "execution_count": 24,
   "id": "952d10d5",
   "metadata": {},
   "outputs": [
    {
     "name": "stdout",
     "output_type": "stream",
     "text": [
      "Blade-chest model test_loss 0.0004803201785155882\n"
     ]
    }
   ],
   "source": [
    "test_prediction   = get_prediction(test_loader,    blade_chest_model)\n",
    "\n",
    "test_loss = log_loss(y_test, test_prediction)\n",
    "print('Blade-chest model test_loss', test_loss)"
   ]
  },
  {
   "cell_type": "code",
   "execution_count": 25,
   "id": "5deb6679",
   "metadata": {},
   "outputs": [
    {
     "name": "stdout",
     "output_type": "stream",
     "text": [
      "Blade-chest model val_loss  0.0004803201785155882\n"
     ]
    }
   ],
   "source": [
    "val_prediction   = get_prediction(val_loader,    blade_chest_model)\n",
    "val_prediction\n",
    "\n",
    "val_loss = log_loss(y_val, val_prediction)\n",
    "print('Blade-chest model val_loss ', val_loss)"
   ]
  },
  {
   "cell_type": "code",
   "execution_count": 26,
   "id": "e1c7babe",
   "metadata": {},
   "outputs": [
    {
     "data": {
      "text/plain": [
       "Text(0, 0.5, 'loss')"
      ]
     },
     "execution_count": 26,
     "metadata": {},
     "output_type": "execute_result"
    },
    {
     "data": {
      "image/png": "[encoded data removed]",
      "text/plain": [
       "<Figure size 432x288 with 1 Axes>"
      ]
     },
     "metadata": {
      "needs_background": "light"
     },
     "output_type": "display_data"
    }
   ],
   "source": [
    "plt.plot(train_batch_loss)\n",
    "plt.yscale('log')\n",
    "plt.title('Batch Loss')\n",
    "plt.xlabel('batch')\n",
    "plt.ylabel('loss')"
   ]
  },
  {
   "cell_type": "code",
   "execution_count": 27,
   "id": "3974bf84",
   "metadata": {},
   "outputs": [
    {
     "data": {
      "text/plain": [
       "Text(0, 0.5, 'loss')"
      ]
     },
     "execution_count": 27,
     "metadata": {},
     "output_type": "execute_result"
    },
    {
     "data": {
      "image/png": "[encoded data removed]",
      "text/plain": [
       "<Figure size 432x288 with 1 Axes>"
      ]
     },
     "metadata": {
      "needs_background": "light"
     },
     "output_type": "display_data"
    }
   ],
   "source": [
    "plt.plot(train_epoch_loss, label = 'train')\n",
    "plt.plot(val_epoch_loss,   label = 'val'  )\n",
    "plt.plot(test_epoch_loss,  label = 'test' )\n",
    "plt.legend()\n",
    "plt.yscale('log')\n",
    "plt.title('Epoch Loss')\n",
    "plt.xlabel('epoch')\n",
    "plt.ylabel('loss')"
   ]
  },
  {
   "cell_type": "markdown",
   "id": "df404c4f",
   "metadata": {},
   "source": [
    "### Визуалиазция прогноза"
   ]
  },
  {
   "cell_type": "code",
   "execution_count": 28,
   "id": "8ae8ef41",
   "metadata": {},
   "outputs": [
    {
     "name": "stdout",
     "output_type": "stream",
     "text": [
      "batch_team1 tensor([[0., 1., 0.]], device='cuda:0')\n",
      "batch_team2 tensor([[0., 0., 1.]], device='cuda:0')\n",
      "batch_y     tensor([[0.]], device='cuda:0')\n",
      "------------\n",
      "('blade_emb.weight', Parameter containing:\n",
      "tensor([[-1.6647, -0.3031,  1.9480],\n",
      "        [ 2.1424, -1.3454, -1.0047]], device='cuda:0', requires_grad=True))\n",
      "\n",
      "('chest_emb.weight', Parameter containing:\n",
      "tensor([[-1.3535,  1.9255, -0.8302],\n",
      "        [-0.1810, -1.7707,  1.7647]], device='cuda:0', requires_grad=True))\n",
      "\n",
      "------------\n",
      "team1        tensor([[0., 1., 0.]], device='cuda:0')\n",
      "team1_blade  tensor([[-0.3031, -1.3454]], device='cuda:0', grad_fn=<MmBackward>)\n",
      "team1_chest  tensor([[ 1.9255, -1.7707]], device='cuda:0', grad_fn=<MmBackward>)\n",
      "\n",
      "team2        tensor([[0., 0., 1.]], device='cuda:0')\n",
      "team2_blade  tensor([[ 1.9480, -1.0047]], device='cuda:0', grad_fn=<MmBackward>)\n",
      "team2_chest  tensor([[-0.8302,  1.7647]], device='cuda:0', grad_fn=<MmBackward>)\n",
      "\n",
      "team1_attack tensor([[-2.1227]], device='cuda:0', grad_fn=<SumBackward1>)\n",
      "team2_attack tensor([[5.5298]], device='cuda:0', grad_fn=<SumBackward1>)\n",
      "\n",
      "logits       tensor([[-7.6525]], device='cuda:0', grad_fn=<SubBackward0>)\n",
      "prob         tensor([[0.0005]], device='cuda:0', grad_fn=<SigmoidBackward>)\n",
      "------------\n",
      "prediction tensor([[-7.6525]], device='cuda:0', grad_fn=<SubBackward0>)\n"
     ]
    }
   ],
   "source": [
    "# С помощью метода forward\n",
    "\n",
    "for i, (batch_team1, batch_team2, batch_y) in enumerate(val1_loader):\n",
    "    \n",
    "    print('batch_team1', batch_team1)\n",
    "    print('batch_team2', batch_team2)\n",
    "    print('batch_y    ', batch_y)\n",
    "    \n",
    "    prediction = blade_chest_model((batch_team1, batch_team2), verbose=True)\n",
    "    \n",
    "    print('------------')\n",
    "    print('prediction', prediction)\n",
    "    break"
   ]
  },
  {
   "cell_type": "code",
   "execution_count": 29,
   "id": "a1c0b8fb",
   "metadata": {},
   "outputs": [
    {
     "data": {
      "text/plain": [
       "array([[-2.1808, -0.2254]])"
      ]
     },
     "execution_count": 29,
     "metadata": {},
     "output_type": "execute_result"
    }
   ],
   "source": [
    "team1_010 = np.array([[0., 1., 0.]])\n",
    "\n",
    "blade_emb = np.array([[ 2.0636, -2.1808, -0.3340],\n",
    "                      [ 1.7583, -0.2254, -2.2194]])\n",
    "\n",
    "team1_010.dot(blade_emb.T)"
   ]
  },
  {
   "cell_type": "code",
   "execution_count": null,
   "id": "d3d590aa",
   "metadata": {},
   "outputs": [],
   "source": []
  },
  {
   "cell_type": "code",
   "execution_count": 30,
   "id": "5fc2f695",
   "metadata": {},
   "outputs": [],
   "source": [
    "# # С помощью метода forward_print\n",
    "\n",
    "# for i, (batch_team1, batch_team2, batch_y) in enumerate(val1_loader):\n",
    "    \n",
    "#     print('batch_team1', batch_team1)\n",
    "#     print('batch_team2', batch_team2)\n",
    "#     print('batch_y    ', batch_y)\n",
    "#     prediction = blade_chest_model.forward_print((batch_team1, batch_team2))\n",
    "#     print('prediction', prediction)\n",
    "#     break"
   ]
  },
  {
   "cell_type": "markdown",
   "id": "328c9ab6",
   "metadata": {},
   "source": [
    "### Визуалиазция коэффициентов модели"
   ]
  },
  {
   "cell_type": "markdown",
   "id": "7f9a369a",
   "metadata": {},
   "source": [
    "#### Напечатаем коэффциенты"
   ]
  },
  {
   "cell_type": "code",
   "execution_count": 31,
   "id": "713ca1fe",
   "metadata": {},
   "outputs": [
    {
     "name": "stdout",
     "output_type": "stream",
     "text": [
      "('blade_emb.weight', Parameter containing:\n",
      "tensor([[-1.6647, -0.3031,  1.9480],\n",
      "        [ 2.1424, -1.3454, -1.0047]], device='cuda:0', requires_grad=True))\n",
      "---------------------------\n",
      "('chest_emb.weight', Parameter containing:\n",
      "tensor([[-1.3535,  1.9255, -0.8302],\n",
      "        [-0.1810, -1.7707,  1.7647]], device='cuda:0', requires_grad=True))\n",
      "---------------------------\n"
     ]
    }
   ],
   "source": [
    "for param in blade_chest_model.named_parameters():\n",
    "    print(param)\n",
    "    print('---------------------------')"
   ]
  },
  {
   "cell_type": "code",
   "execution_count": 32,
   "id": "57d52746",
   "metadata": {},
   "outputs": [
    {
     "name": "stdout",
     "output_type": "stream",
     "text": [
      "Parameter containing:\n",
      "tensor([[-1.6647, -0.3031,  1.9480],\n",
      "        [ 2.1424, -1.3454, -1.0047]], device='cuda:0', requires_grad=True)\n",
      "---------------------------\n",
      "Parameter containing:\n",
      "tensor([[-1.3535,  1.9255, -0.8302],\n",
      "        [-0.1810, -1.7707,  1.7647]], device='cuda:0', requires_grad=True)\n",
      "---------------------------\n"
     ]
    }
   ],
   "source": [
    "for param in blade_chest_model.parameters():\n",
    "    print(param)\n",
    "    print('---------------------------')"
   ]
  },
  {
   "cell_type": "code",
   "execution_count": 33,
   "id": "792bc19e",
   "metadata": {},
   "outputs": [
    {
     "data": {
      "text/plain": [
       "(Linear(in_features=3, out_features=2, bias=False),\n",
       " Linear(in_features=3, out_features=2, bias=False))"
      ]
     },
     "execution_count": 33,
     "metadata": {},
     "output_type": "execute_result"
    }
   ],
   "source": [
    "blade_chest_model.blade_emb, blade_chest_model.chest_emb "
   ]
  },
  {
   "cell_type": "code",
   "execution_count": 34,
   "id": "42862af1",
   "metadata": {},
   "outputs": [
    {
     "data": {
      "text/plain": [
       "Parameter containing:\n",
       "tensor([[-1.6647, -0.3031,  1.9480],\n",
       "        [ 2.1424, -1.3454, -1.0047]], device='cuda:0', requires_grad=True)"
      ]
     },
     "execution_count": 34,
     "metadata": {},
     "output_type": "execute_result"
    }
   ],
   "source": [
    "blade_chest_model.blade_emb.weight"
   ]
  },
  {
   "cell_type": "markdown",
   "id": "3b25a959",
   "metadata": {},
   "source": [
    "#### Визуалиазция коэффициентов"
   ]
  },
  {
   "cell_type": "code",
   "execution_count": 35,
   "id": "441d40f1",
   "metadata": {},
   "outputs": [
    {
     "name": "stdout",
     "output_type": "stream",
     "text": [
      "[[-1.6646628  -0.30306903  1.9480432 ]\n",
      " [ 2.1424332  -1.3454243  -1.0046706 ]]\n",
      "[[-1.3535407   1.9254565  -0.83022505]\n",
      " [-0.18098368 -1.7706753   1.7647011 ]]\n"
     ]
    }
   ],
   "source": [
    "blade, chest = (\n",
    "    blade_chest_model.blade_emb.weight.data.detach().cpu().numpy(),\n",
    "    blade_chest_model.chest_emb.weight.data.detach().cpu().numpy()\n",
    ")\n",
    "\n",
    "print(blade)\n",
    "print(chest)"
   ]
  },
  {
   "cell_type": "code",
   "execution_count": 36,
   "id": "66140cd3",
   "metadata": {
    "scrolled": false
   },
   "outputs": [
    {
     "name": "stdout",
     "output_type": "stream",
     "text": [
      "0 (-1.3535407, -0.18098368, -0.31112218, 2.323417)\n",
      "1 (1.9254565, -1.7706753, -2.2285256, 0.425251)\n",
      "2 (-0.83022505, 1.7647011, 2.7782683, -2.7693717)\n"
     ]
    },
    {
     "data": {
      "image/png": "[encoded data removed]",
      "text/plain": [
       "<Figure size 288x288 with 1 Axes>"
      ]
     },
     "metadata": {
      "needs_background": "light"
     },
     "output_type": "display_data"
    }
   ],
   "source": [
    "fig, ax = plt.subplots(1,1,figsize=(4,4))\n",
    "\n",
    "offset = [[0, -0.5],      # rock\n",
    "          [0.7, 0],      # paper\n",
    "          [0.0, -0.7],    # scissors\n",
    "         ]\n",
    "\n",
    "for i, unit in enumerate(['rock', 'paper', 'scissors']):\n",
    "    unit_blade = blade[:,i]\n",
    "    unit_chest = chest[:,i]\n",
    "    x, y   = unit_chest\n",
    "    dx, dy = unit_blade - unit_chest\n",
    "    ox, oy = offset[i]\n",
    "    \n",
    "    print(i, (x, y, dx, dy))\n",
    "    ax.arrow(x,  y, \n",
    "             dx, dy, \n",
    "             head_width=0.1, head_length=0.25, fc='black', ec='black')\n",
    "    \n",
    "    ax.text(x + dx/2 + ox, y + dy/2 + oy, \n",
    "            s = unit, \n",
    "            size=16, ha='center', va='center', color='black')\n",
    "    \n",
    "plt.show()    \n",
    "#x, y"
   ]
  },
  {
   "cell_type": "markdown",
   "id": "6a68f3ea",
   "metadata": {},
   "source": [
    "В статьях Shuo Chen получилась более регулярная картина. <br> \n",
    "Вероятно, он использовал регуляризацию или контролировал начальные коэффициенты\n",
    "\n",
    "<img src=\"https://www.researchgate.net/profile/Thorsten-Joachims/publication/310825028/figure/fig9/AS:631996137086978@1527691029945/The-visualization-of-the-blade-chest-dist-model-trained-on-a-synthetic.png\" alt=\"Drawing\" style=\"width: 400px;\" align=\"left\" >\n",
    "\n"
   ]
  },
  {
   "cell_type": "markdown",
   "id": "49a3cd79",
   "metadata": {},
   "source": [
    "## Обсуждение \n",
    "\n",
    "* Сосчитать прогноз вручную по коэффициентам модели\n",
    "* Удадить свободные члены из модели\n",
    "* Модификации метрики близости\n",
    "    * Косинус углов вместо скалярного произведения\n",
    "    * Покомпонетное превышение\n",
    "* Модификации модели\n",
    "    * Cинергия юнитов\n"
   ]
  },
  {
   "cell_type": "markdown",
   "id": "49b89683",
   "metadata": {},
   "source": [
    "### Технические замечания\n",
    "\n",
    "#### Регуляризация: L1, L2, своя функция регуляризации\n",
    "\n",
    "https://stackoverflow.com/questions/42704283/adding-l1-l2-regularization-in-pytorch\n",
    "\n",
    "\n",
    "<code>L1_reg = torch.tensor(0., requires_grad=True)\n",
    "for name, param in model.named_parameters():\n",
    "    if 'weight' in name:                                 # Пример регуляризации для весов, но не bias\n",
    "        L1_reg = L1_reg + torch.norm(param, 1)\n",
    "total_loss = total_loss + 10e-4 * L1_reg</code>"
   ]
  },
  {
   "cell_type": "markdown",
   "id": "aa5ac41e",
   "metadata": {},
   "source": [
    "# Остановка рассчёта"
   ]
  },
  {
   "cell_type": "code",
   "execution_count": 37,
   "id": "f80eaa0a",
   "metadata": {},
   "outputs": [],
   "source": [
    "#1/0"
   ]
  },
  {
   "cell_type": "markdown",
   "id": "0e9d91a2",
   "metadata": {},
   "source": [
    "## Оптимизация модели: Shuo Chen's blade-chest distance model\n",
    "\n",
    "* Модель исхода матча: <br> $M(a,b) = {\\| \\mathbf{b}_{blade} - \\mathbf{a}_{chest} \\|}^{2} - {\\| \\mathbf{a}_{blade} - \\mathbf{b}_{chest} \\|}^{2} $ <br><br>\n",
    "* Embedding без bias: nn.Linear(num_units, num_embeddings, bias=False)\n"
   ]
  },
  {
   "cell_type": "code",
   "execution_count": 38,
   "id": "471a9a68",
   "metadata": {},
   "outputs": [],
   "source": [
    "class BladeChestDistance(nn.Module):\n",
    "    def __init__(self, num_units=num_u, num_embeddings=num_emb):\n",
    "        super(BladeChestDistance, self).__init__()\n",
    "        self.blade_emb = nn.Linear(num_units, num_embeddings, bias=False)\n",
    "        self.chest_emb = nn.Linear(num_units, num_embeddings, bias=False)\n",
    "\n",
    "    def forward(self, batch):\n",
    "        team1, team2 = batch\n",
    "        team1_blade = self.blade_emb(team1)\n",
    "        team2_blade = self.blade_emb(team2)\n",
    "        team1_chest = self.chest_emb(team1)\n",
    "        team2_chest = self.chest_emb(team2)\n",
    "        \n",
    "        blade1_chest2 = team1_blade - team2_chest\n",
    "        blade2_chest1 = team2_blade - team1_chest\n",
    "\n",
    "        team1_attack = - batch_dot(blade1_chest2, blade1_chest2)\n",
    "        team2_attack = - batch_dot(blade2_chest1, blade2_chest1)\n",
    "        \n",
    "        logits = team1_attack - team2_attack\n",
    "        return logits"
   ]
  },
  {
   "cell_type": "code",
   "execution_count": 39,
   "id": "21251028",
   "metadata": {},
   "outputs": [],
   "source": [
    "# Объявляем модель\n",
    "blade_chest_distance_model = BladeChestDistance( num_units      = num_u, \n",
    "                                                 num_embeddings = num_emb\n",
    "                                               ).cuda()"
   ]
  },
  {
   "cell_type": "code",
   "execution_count": 40,
   "id": "984f2c2c",
   "metadata": {},
   "outputs": [],
   "source": [
    "# Функция потерь\n",
    "crossentropy = nn.BCEWithLogitsLoss()  "
   ]
  },
  {
   "cell_type": "code",
   "execution_count": 41,
   "id": "c72472b4",
   "metadata": {},
   "outputs": [],
   "source": [
    "# Оптимизатор\n",
    "optimizer = torch.optim.Adam(blade_chest_distance_model.parameters(), \n",
    "                             lr=1e-4)"
   ]
  },
  {
   "cell_type": "code",
   "execution_count": 48,
   "id": "23153bc8",
   "metadata": {},
   "outputs": [],
   "source": [
    "def get_prediction(dataloader, model, verbose=False):\n",
    "    '''\n",
    "    Прогноз для данных\n",
    "    - НЕ добавлена контрольная печать: verbose\n",
    "    '''\n",
    "    result = []\n",
    "       \n",
    "    for i, (batch_team1, batch_team2, y) in enumerate(dataloader):  # dataloader yields (batch_team1, batch_team2, y)\n",
    "        out = torch.sigmoid( model.forward((batch_team1, batch_team2)\n",
    "                                           #, verbose = verbose\n",
    "                                          ) \n",
    "                           )\n",
    "        out = list( out.detach().cpu()[:,0].numpy() )\n",
    "        result.extend(out)\n",
    "        \n",
    "    return result"
   ]
  },
  {
   "cell_type": "code",
   "execution_count": 49,
   "id": "f44a1ade",
   "metadata": {},
   "outputs": [],
   "source": [
    "def run_epoch(model, \n",
    "              optimizer = optimizer, \n",
    "              training=True, \n",
    "              L2 = 0,                 # Регуляризация L2 для коэффициентов модели\n",
    "              L2_diff = 0,            # Регуляризация L2 для коэффициентов разности: blade - chest\n",
    "             ):\n",
    "    '''\n",
    "    Оптимизация модели для одной эпохи\n",
    "    + Добавлена регуляризация: L2, L2_diff\n",
    "    - НЕ добавлена контрольная печать: verbose\n",
    "    '''\n",
    "    \n",
    "    loss_values = []\n",
    "    \n",
    "    model.train(training)\n",
    "    \n",
    "    dataloader = train_loader if training else val_loader\n",
    "    \n",
    "    for i, (batch_team1, batch_team2, batch_y) in tqdm(enumerate(dataloader)):\n",
    "        out = model((batch_team1, batch_team2) \n",
    "                    #, verbose=False\n",
    "                   )\n",
    "        optimizer.zero_grad()\n",
    "        \n",
    "        #print(out.dtype, batch_y.dtype)\n",
    "        batch_loss = crossentropy(out, batch_y)\n",
    "\n",
    "        # Регуляризация весов, но не свободных членов.\n",
    "        # Adapted from: https://stackoverflow.com/questions/42704283/adding-l1-l2-regularization-in-pytorch\n",
    "        if L2 > 0:\n",
    "            L2_reg = torch.tensor(0., requires_grad=True)\n",
    "            for name, param in model.named_parameters():\n",
    "                if 'weight' in name:\n",
    "                    L2_reg = L2_reg + torch.norm(param, 2)\n",
    "            batch_loss = batch_loss + L2 * L2_reg\n",
    "        \n",
    "        if L2_diff > 0:\n",
    "            L2_diff_reg = torch.tensor(0., requires_grad=True)\n",
    "            blade_emb = next( blade_chest_model.blade_emb.parameters())\n",
    "            chest_emb = next( blade_chest_model.chest_emb.parameters())\n",
    "            L2_diff_reg = torch.norm(blade_emb - chest_emb, 2)\n",
    "            batch_loss = batch_loss + L2_diff * L2_diff_reg\n",
    "\n",
    "        if training:\n",
    "            batch_loss.backward()\n",
    "            optimizer.step()\n",
    "            \n",
    "        loss_values.append(batch_loss.item())\n",
    "        \n",
    "    return loss_values"
   ]
  },
  {
   "cell_type": "code",
   "execution_count": 50,
   "id": "935dd68e",
   "metadata": {
    "scrolled": false
   },
   "outputs": [
    {
     "name": "stderr",
     "output_type": "stream",
     "text": [
      "282it [00:00, 318.76it/s]\n",
      "282it [00:00, 350.82it/s]\n",
      "282it [00:00, 359.18it/s]\n",
      "282it [00:00, 356.02it/s]\n",
      "282it [00:00, 357.15it/s]\n",
      "282it [00:00, 350.84it/s]\n",
      "282it [00:00, 355.68it/s]\n",
      "282it [00:00, 342.07it/s]\n",
      "282it [00:00, 359.84it/s]\n",
      "282it [00:00, 360.70it/s]\n",
      "282it [00:00, 355.99it/s]\n",
      "282it [00:00, 354.54it/s]\n",
      "282it [00:00, 358.90it/s]\n",
      "282it [00:00, 354.13it/s]\n",
      "282it [00:00, 356.16it/s]\n",
      "282it [00:00, 357.96it/s]\n",
      "282it [00:00, 350.65it/s]\n",
      "282it [00:00, 359.66it/s]\n",
      "282it [00:00, 343.50it/s]\n",
      "282it [00:00, 349.46it/s]\n",
      "282it [00:00, 354.60it/s]\n",
      "282it [00:00, 353.46it/s]\n",
      "282it [00:00, 339.98it/s]\n",
      "282it [00:00, 349.60it/s]\n",
      "282it [00:00, 350.34it/s]\n",
      "282it [00:00, 358.05it/s]\n",
      "282it [00:00, 372.79it/s]\n",
      "282it [00:00, 357.94it/s]\n",
      "282it [00:00, 354.41it/s]\n",
      "282it [00:00, 356.85it/s]\n",
      "282it [00:00, 359.40it/s]\n",
      "282it [00:00, 340.64it/s]\n",
      "282it [00:00, 353.55it/s]\n",
      "282it [00:00, 354.24it/s]\n",
      "282it [00:00, 343.81it/s]\n",
      "282it [00:00, 358.15it/s]\n",
      "282it [00:00, 354.40it/s]\n",
      "282it [00:00, 355.37it/s]\n",
      "282it [00:00, 356.46it/s]\n",
      "282it [00:00, 353.49it/s]\n",
      "282it [00:00, 350.88it/s]\n",
      "282it [00:00, 358.41it/s]\n",
      "282it [00:00, 358.16it/s]\n",
      "282it [00:00, 339.92it/s]\n",
      "282it [00:00, 357.63it/s]\n",
      "282it [00:00, 365.52it/s]\n",
      "282it [00:00, 358.60it/s]\n",
      "282it [00:00, 355.16it/s]\n",
      "282it [00:00, 356.08it/s]\n",
      "282it [00:00, 355.58it/s]\n",
      "282it [00:00, 356.99it/s]\n",
      "282it [00:00, 358.60it/s]\n",
      "282it [00:00, 347.52it/s]\n",
      "282it [00:00, 349.93it/s]\n",
      "282it [00:00, 355.37it/s]\n",
      "282it [00:00, 442.92it/s]\n",
      "282it [00:00, 361.13it/s]\n",
      "282it [00:00, 360.55it/s]\n",
      "282it [00:00, 355.24it/s]\n",
      "282it [00:00, 358.54it/s]\n",
      "282it [00:00, 357.53it/s]\n",
      "282it [00:00, 359.10it/s]\n",
      "282it [00:00, 360.12it/s]\n",
      "282it [00:00, 356.50it/s]\n"
     ]
    }
   ],
   "source": [
    "# Обучаем модель\n",
    "\n",
    "train_batch_loss = []\n",
    "\n",
    "train_epoch_loss = []\n",
    "test_epoch_loss  = []\n",
    "val_epoch_loss   = []\n",
    "\n",
    "for epoch in range(64):\n",
    "    train_batch_loss = train_batch_loss + run_epoch(blade_chest_distance_model, optimizer = optimizer)\n",
    "    \n",
    "    train_prediction = get_prediction(train2_loader, blade_chest_distance_model)    # train2_loader - без shuffle\n",
    "    val_prediction   = get_prediction(val_loader,    blade_chest_distance_model)\n",
    "    test_prediction  = get_prediction(test_loader,   blade_chest_distance_model)  \n",
    "    \n",
    "    train_epoch_loss.append( log_loss(y_train, train_prediction) )\n",
    "    val_epoch_loss.append(   log_loss(y_val,   val_prediction)   )\n",
    "    test_epoch_loss.append(  log_loss(y_test,  test_prediction)  )\n"
   ]
  },
  {
   "cell_type": "code",
   "execution_count": 51,
   "id": "a120f6ae",
   "metadata": {},
   "outputs": [
    {
     "name": "stdout",
     "output_type": "stream",
     "text": [
      "Blade-chest model 0.00027065322986648727\n"
     ]
    }
   ],
   "source": [
    "val_prediction   = get_prediction(val_loader,    blade_chest_distance_model)\n",
    "val_prediction\n",
    "\n",
    "val_loss = log_loss(y_val, val_prediction)\n",
    "print('Blade-chest model', val_loss)"
   ]
  },
  {
   "cell_type": "code",
   "execution_count": 52,
   "id": "9cf9b716",
   "metadata": {},
   "outputs": [
    {
     "data": {
      "text/plain": [
       "Text(0, 0.5, 'loss')"
      ]
     },
     "execution_count": 52,
     "metadata": {},
     "output_type": "execute_result"
    },
    {
     "data": {
      "image/png": "[encoded data removed]",
      "text/plain": [
       "<Figure size 432x288 with 1 Axes>"
      ]
     },
     "metadata": {
      "needs_background": "light"
     },
     "output_type": "display_data"
    }
   ],
   "source": [
    "plt.plot(train_batch_loss)\n",
    "plt.yscale('log')\n",
    "plt.title('Batch Loss')\n",
    "plt.xlabel('batch')\n",
    "plt.ylabel('loss')"
   ]
  },
  {
   "cell_type": "code",
   "execution_count": 53,
   "id": "15ad732e",
   "metadata": {},
   "outputs": [
    {
     "data": {
      "text/plain": [
       "Text(0, 0.5, 'loss')"
      ]
     },
     "execution_count": 53,
     "metadata": {},
     "output_type": "execute_result"
    },
    {
     "data": {
      "image/png": "[encoded data removed]",
      "text/plain": [
       "<Figure size 432x288 with 1 Axes>"
      ]
     },
     "metadata": {
      "needs_background": "light"
     },
     "output_type": "display_data"
    }
   ],
   "source": [
    "plt.plot(train_epoch_loss, label = 'train')\n",
    "plt.plot(val_epoch_loss,   label = 'val'  )\n",
    "plt.plot(test_epoch_loss,  label = 'test' )\n",
    "plt.legend()\n",
    "plt.yscale('log')\n",
    "plt.title('Epoch Loss')\n",
    "plt.xlabel('epoch')\n",
    "plt.ylabel('loss')"
   ]
  },
  {
   "cell_type": "code",
   "execution_count": null,
   "id": "a47830f2",
   "metadata": {},
   "outputs": [],
   "source": []
  },
  {
   "cell_type": "code",
   "execution_count": 54,
   "id": "3b5f3807",
   "metadata": {},
   "outputs": [
    {
     "data": {
      "text/plain": [
       "(Linear(in_features=3, out_features=2, bias=False),\n",
       " Linear(in_features=3, out_features=2, bias=False))"
      ]
     },
     "execution_count": 54,
     "metadata": {},
     "output_type": "execute_result"
    }
   ],
   "source": [
    "blade_chest_distance_model.blade_emb, blade_chest_distance_model.chest_emb "
   ]
  },
  {
   "cell_type": "code",
   "execution_count": 55,
   "id": "e004762c",
   "metadata": {},
   "outputs": [
    {
     "name": "stdout",
     "output_type": "stream",
     "text": [
      "[[-1.4407448   0.32605186  1.5851496 ]\n",
      " [-0.32853624 -1.5541011   1.1940191 ]]\n",
      "[[-0.5842249  1.2907299 -1.1656994]\n",
      " [-1.1141822  0.9120718  0.9815845]]\n"
     ]
    }
   ],
   "source": [
    "blade, chest = (\n",
    "    blade_chest_distance_model.blade_emb.weight.data.detach().cpu().numpy(),\n",
    "    blade_chest_distance_model.chest_emb.weight.data.detach().cpu().numpy()\n",
    ")\n",
    "\n",
    "print(blade)\n",
    "print(chest)"
   ]
  },
  {
   "cell_type": "code",
   "execution_count": 56,
   "id": "f8c328da",
   "metadata": {},
   "outputs": [
    {
     "name": "stdout",
     "output_type": "stream",
     "text": [
      "0 (-0.5842249, -1.1141822, -0.8565199, 0.78564596)\n",
      "1 (1.2907299, 0.9120718, -0.96467805, -2.466173)\n",
      "2 (-1.1656994, 0.9815845, 2.750849, 0.21243459)\n"
     ]
    },
    {
     "data": {
      "image/png": "[encoded data removed]",
      "text/plain": [
       "<Figure size 288x288 with 1 Axes>"
      ]
     },
     "metadata": {
      "needs_background": "light"
     },
     "output_type": "display_data"
    }
   ],
   "source": [
    "fig, ax = plt.subplots(1,1,figsize=(4,4))\n",
    "\n",
    "offset = [[-0.3, -0.3],  # rock\n",
    "          [-0.5, 0],      # paper\n",
    "          [-0.6, 0.2],      # scissors\n",
    "         ]\n",
    "\n",
    "for i, unit in enumerate(['rock', 'paper', 'scissors']):\n",
    "    unit_blade = blade[:,i]\n",
    "    unit_chest = chest[:,i]\n",
    "    x, y   = unit_chest\n",
    "    dx, dy = unit_blade - unit_chest\n",
    "    ox, oy = offset[i]\n",
    "    \n",
    "    print(i, (x, y, dx, dy))\n",
    "    ax.arrow(x,  y, \n",
    "             dx, dy, \n",
    "             head_width=0.1, head_length=0.25, fc='black', ec='black')\n",
    "    \n",
    "    ax.text(x + dx/2 + ox, y + dy/2 + oy, \n",
    "            s = unit, \n",
    "            size=12, ha='center', va='center', color='black')\n",
    "    \n",
    "plt.show()    \n",
    "#x, y"
   ]
  },
  {
   "cell_type": "markdown",
   "id": "2dcd1ef9",
   "metadata": {},
   "source": [
    "Ожидал, что получится, как в статье\n",
    "\n",
    "<img src=\"https://www.researchgate.net/profile/Thorsten-Joachims/publication/310825028/figure/fig9/AS:631996137086978@1527691029945/The-visualization-of-the-blade-chest-dist-model-trained-on-a-synthetic.png\" alt=\"Drawing\" style=\"width: 400px;\" align=\"left\" >\n",
    "\n"
   ]
  },
  {
   "cell_type": "markdown",
   "id": "942368a8",
   "metadata": {},
   "source": [
    "# LightGBM\n",
    "\n",
    "## Как НЕ получить результат\n",
    "\n",
    "* Из-за особенностей данных, разбиение по любому отдельному признаку не приводит к улучшению качества прогноза.\n",
    "* Из-за небольшого размера данных, дерево не рзбивает их на группы."
   ]
  },
  {
   "cell_type": "code",
   "execution_count": 57,
   "id": "a1fcc859",
   "metadata": {},
   "outputs": [],
   "source": [
    "data_train_lgb = np.concatenate([team1_train, team2_train], axis=1)\n",
    "data_val_lgb   = np.concatenate([team1_val,   team2_val],   axis=1)\n",
    "data_test_lgb  = np.concatenate([team1_test,  team2_test],  axis=1)"
   ]
  },
  {
   "cell_type": "code",
   "execution_count": 58,
   "id": "2463a4a4",
   "metadata": {},
   "outputs": [
    {
     "data": {
      "text/plain": [
       "array([[1, 0, 0, 0, 1, 0],\n",
       "       [0, 0, 1, 0, 1, 0],\n",
       "       [0, 0, 1, 0, 1, 0],\n",
       "       [0, 0, 1, 0, 1, 0]], dtype=uint8)"
      ]
     },
     "execution_count": 58,
     "metadata": {},
     "output_type": "execute_result"
    }
   ],
   "source": [
    "data_train_lgb[:4]"
   ]
  },
  {
   "cell_type": "code",
   "execution_count": 60,
   "id": "eb525084",
   "metadata": {},
   "outputs": [
    {
     "name": "stdout",
     "output_type": "stream",
     "text": [
      "elapse:,  0.057291507720947266\n"
     ]
    }
   ],
   "source": [
    "lgb = LGBMClassifier(\n",
    "    n_jobs=10,\n",
    "    max_depth=3,\n",
    "    subsample=1,\n",
    "    n_estimators=100,\n",
    "    learning_rate=0.1,\n",
    "    colsample_bytree=1,\n",
    "    objective='binary',\n",
    "    boosting_type='gbdt',\n",
    "#    min_data=1,\n",
    "#    min_hess=0\n",
    ")\n",
    "\n",
    "start = time.time()\n",
    "lgb.fit(data_train_lgb, y_train.ravel())\n",
    "lgb_elapse = time.time() - start\n",
    "print('elapse:, ', lgb_elapse)"
   ]
  },
  {
   "cell_type": "code",
   "execution_count": 61,
   "id": "fc886b4e",
   "metadata": {},
   "outputs": [
    {
     "name": "stdout",
     "output_type": "stream",
     "text": [
      "auc score val:  0.5\n",
      "auc score test: 0.5\n"
     ]
    }
   ],
   "source": [
    "y_pred_val = lgb.predict_proba(data_val_lgb)[:, 1]\n",
    "lgb_auc_val = roc_auc_score(y_val, y_pred_val)\n",
    "print('auc score val: ', lgb_auc_val)\n",
    "\n",
    "\n",
    "y_pred_test = lgb.predict_proba(data_test_lgb)[:, 1]\n",
    "lgb_auc_test = roc_auc_score(y_test, y_pred_test)\n",
    "print('auc score test:', lgb_auc_test)"
   ]
  },
  {
   "cell_type": "markdown",
   "id": "37d4c0cf",
   "metadata": {},
   "source": [
    "## Как получить результат\n",
    "\n",
    "Из-за особенностей данных, разбиение по любому отдельному признаку не приводит к улучшению качества прогноза.\n",
    "\n",
    "А разбиение сразу по паре признаков позволяет получить достоверные предсказания.\n",
    "\n",
    "Поэтому из пар признаков создаём комбинированные признаки-пары. Их и будем использовать"
   ]
  },
  {
   "cell_type": "code",
   "execution_count": 62,
   "id": "61511bcc",
   "metadata": {},
   "outputs": [],
   "source": [
    "def get_pairs_arr(data_lgb):\n",
    "    pairs_arr = []\n",
    "    for arr in data_lgb:\n",
    "        res = int(\"\".join(str(x) for x in list(arr)), 2)\n",
    "        pairs_arr.extend([res])\n",
    "        \n",
    "    return pairs_arr"
   ]
  },
  {
   "cell_type": "code",
   "execution_count": 63,
   "id": "7e2ae825",
   "metadata": {},
   "outputs": [],
   "source": [
    "def encode_pairs(data_lgb):\n",
    "    pairs_arr = get_pairs_arr(data_lgb)     # 2^N encoding of pair\n",
    "    pairs = sorted(list(set(pairs_arr)))\n",
    "    n_pairs = len(pairs)\n",
    "    pair_dict = dict( zip( pairs, list( range(n_pairs) ) ) )\n",
    "    \n",
    "    result = []\n",
    "    for pair in pairs_arr:\n",
    "        extension = np.zeros(n_pairs)\n",
    "        extension[pair_dict[pair]] = 1\n",
    "        result.extend([extension])\n",
    "    \n",
    "    return result"
   ]
  },
  {
   "cell_type": "code",
   "execution_count": 64,
   "id": "05aef74e",
   "metadata": {},
   "outputs": [],
   "source": [
    "encoded_pairs_train = encode_pairs(data_train_lgb)\n",
    "encoded_pairs_val   = encode_pairs(data_val_lgb)\n",
    "encoded_pairs_test  = encode_pairs(data_test_lgb)"
   ]
  },
  {
   "cell_type": "code",
   "execution_count": 65,
   "id": "170cb29a",
   "metadata": {},
   "outputs": [
    {
     "data": {
      "text/plain": [
       "[array([0., 0., 0., 0., 0., 1.]),\n",
       " array([1., 0., 0., 0., 0., 0.]),\n",
       " array([1., 0., 0., 0., 0., 0.]),\n",
       " array([1., 0., 0., 0., 0., 0.])]"
      ]
     },
     "execution_count": 65,
     "metadata": {},
     "output_type": "execute_result"
    }
   ],
   "source": [
    "encoded_pairs_train[:4]"
   ]
  },
  {
   "cell_type": "code",
   "execution_count": 66,
   "id": "ecbb0e44",
   "metadata": {},
   "outputs": [
    {
     "name": "stdout",
     "output_type": "stream",
     "text": [
      "[LightGBM] [Warning] Unknown parameter: min_hess\n",
      "[LightGBM] [Warning] min_data_in_leaf is set with min_child_samples=20, will be overridden by min_data=1. Current value: min_data_in_leaf=1\n",
      "elapse:,  0.08529901504516602\n"
     ]
    }
   ],
   "source": [
    "lgb = LGBMClassifier(\n",
    "    n_jobs=10,\n",
    "    max_depth=3,\n",
    "    subsample=1,\n",
    "    n_estimators=100,\n",
    "    learning_rate=0.1,\n",
    "    colsample_bytree=1,\n",
    "    objective='binary',\n",
    "    boosting_type='gbdt',\n",
    "    min_data=1,\n",
    "    min_hess=0\n",
    ")\n",
    "\n",
    "start = time.time()\n",
    "lgb.fit(encoded_pairs_train, y_train.ravel())\n",
    "lgb_elapse = time.time() - start\n",
    "print('elapse:, ', lgb_elapse)"
   ]
  },
  {
   "cell_type": "code",
   "execution_count": 67,
   "id": "77576be1",
   "metadata": {},
   "outputs": [
    {
     "name": "stdout",
     "output_type": "stream",
     "text": [
      "auc score val:  1.0\n",
      "auc score test: 1.0\n"
     ]
    }
   ],
   "source": [
    "y_pred_val = lgb.predict_proba(encoded_pairs_val)[:, 1]\n",
    "lgb_auc_val = roc_auc_score(y_val, y_pred_val)\n",
    "print('auc score val: ', lgb_auc_val)\n",
    "\n",
    "\n",
    "y_pred_test = lgb.predict_proba(encoded_pairs_test)[:, 1]\n",
    "lgb_auc_test = roc_auc_score(y_test, y_pred_test)\n",
    "print('auc score test:', lgb_auc_test)"
   ]
  },
  {
   "cell_type": "code",
   "execution_count": null,
   "id": "2c748efa",
   "metadata": {},
   "outputs": [],
   "source": []
  },
  {
   "cell_type": "code",
   "execution_count": null,
   "id": "37955a52",
   "metadata": {},
   "outputs": [],
   "source": []
  }
 ],
 "metadata": {
  "kernelspec": {
   "display_name": "Python 3",
   "language": "python",
   "name": "python3"
  },
  "language_info": {
   "codemirror_mode": {
    "name": "ipython",
    "version": 3
   },
   "file_extension": ".py",
   "mimetype": "text/x-python",
   "name": "python",
   "nbconvert_exporter": "python",
   "pygments_lexer": "ipython3",
   "version": "3.6.9"
  }
 },
 "nbformat": 4,
 "nbformat_minor": 5
}
